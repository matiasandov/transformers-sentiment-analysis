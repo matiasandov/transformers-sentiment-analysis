{
 "cells": [
  {
   "cell_type": "code",
   "execution_count": 3,
   "metadata": {},
   "outputs": [],
   "source": [
    "# Before you start:\n",
    "# 1. set the path to chromedriver\n",
    "# 2. set the path where the files are to be saved\n",
    "\n",
    "# to work with the site:\n",
    "import requests\n",
    "import selenium\n",
    "import webbrowser\n",
    "from selenium import webdriver\n",
    "from selenium.webdriver.common.by import By\n",
    "\n",
    "# to download html:\n",
    "from bs4 import BeautifulSoup\n",
    "\n",
    "# to write the files:\n",
    "from datetime import date\n",
    "import os\n",
    "\n",
    "import re\n",
    "\n",
    "import pandas as pd\n",
    "import numpy as np\n",
    "import time"
   ]
  },
  {
   "cell_type": "markdown",
   "metadata": {},
   "source": [
    "I could use this library to scrap information of the person since each article has a person, this way we could determine how important and influencial this person is.\n",
    "\n",
    "We could scrape:\n",
    "\n",
    "Person\n",
    "- Name\n",
    "- Profile URL\n",
    "- job_title\n",
    "- company\n",
    "\n",
    "Company\n",
    "\n",
    "Company(linkedin_url=None, name=None, about_us=None, website=None, headquarters=None, founded=None, company_type=None, company_size=None, specialties=None, showcase_pages=[], affiliated_companies=[], driver=None, scrape=True, get_employees=True)\n",
    "\n",
    "- name\n",
    "- affiliated_companies\n",
    "- specialties\n",
    "- company_size\n",
    "- founded\n",
    "- company_type"
   ]
  },
  {
   "cell_type": "code",
   "execution_count": 4,
   "metadata": {},
   "outputs": [],
   "source": [
    "with open('looking.html', 'r', encoding='utf-8') as file:\n",
    "    html = file.read() \n",
    "raw = BeautifulSoup(html, 'html.parser')"
   ]
  },
  {
   "cell_type": "markdown",
   "metadata": {},
   "source": [
    "Extract post description "
   ]
  },
  {
   "cell_type": "code",
   "execution_count": 5,
   "metadata": {},
   "outputs": [
    {
     "name": "stdout",
     "output_type": "stream",
     "text": [
      " - \n",
      "Element 1 of the list: Last week I had the pleasure to NFT Paris by the hand of Arianee . Witnessing the transformative power of Web3 and NFTs in reshaping the concept of ownership, particularly in relation to our personal data, left me inspired and eager to delve deeper into the evolving landscape of decentralized technologies. The event sparked valuable insights, and I'm excited to continue navigating the dynamic realm of blockchain innovations. #NFTParis #Web3 #OwnershipRevolution\n",
      "Element 2 of the list: Hello everyone Today, my friends Asma Ghamacha , Hermes Yan NTJAM NDJENG , Harold Geumtcheng , Aloys Aymrick Nzooh , Bryan Fozame and I had the chance to be part of the NFT Paris conference thanks to our school aivancity School for Technology, Business & Society Paris-Cachan where we learned a wealth of new information about blockchain, metaverse, web3 and its use cases across various industries such as finance, gaming, luxury, and more. During this enI had the privilege to engage in discussions with numerous brilliant web3 developers and CEOs from companies like Maxence Perray from Nomiks , Victor Briere from Arianee , Ubisoft , Louis Vuitton , and many others. These conversations provided me with deeper insights into this innovative technology and its intersection with data science, particularly in terms of transparency and tokenization on the blockchain. #DataScience #Blockchain\n",
      "Element 3 of the list: The digital world continues to intersect with traditional art forms as online trading platform Robinhood partners with Notable.art to bring prominent artist Hunt Slonem’s work to a wider audience through the use of Non-Fungible Tokens (NFTs) Sign up on our website to automatically enter our monthly prize raffle https://lnkd.in/dMcKcrpf #robbinhood #notableart #huntslonem #art #nfts #technology #artists #robbinhoodwallet #technology #digitalinnovation #brands #artwork #blockchaintechnology #metaverse #blockchain #futursm #web3 #userexperience #investements #fundraising #angelinvestors #venturecapitalist\n",
      "Element 4 of the list: Can’t wait to welcome everyone in Paris this week for NFT Paris 2024! 🚀 Shout to Alexandre Tsydenkov and the team at NFT Paris who have done an awesome job creating and curating one of the most relevant B2B and B2C web3 events in the world. Arianee & I will be present throughout the week at side-events, panels and of course, the main event on the 23rd and 24th with demos and a workshop. This year, Arianee will be taking a different approach with new activations: from taking over the VIP lounge, where we will be exhibiting all the brands building on our technology… from BREITLING to Panerai , Moncler , and many more, showcasing our tokenized digital product passports. Join me on stage on February 23rd for: 1️⃣ The opening keynote “From Hype to Purpose - Redefining NFTs for the next billion users”, at 10:15am CET 2️⃣ A panel with ian rogers (Chief Experience Officer, Ledger ) and Gmoney, on “Unleashing the Potential of the Digital Luxury Market” at 11:00am CET Our fellow team members & esteemed partners will also be on stage: 3️⃣ Delphine Eddé , our CMO, will be moderating a panel on “Digital Product Passports for Physical Goods: From Post Purchase Engagement to Circular Business Models with Eva Assayag (Head of IS & Organization Projects, Panerai ), Adrian Corsin (Managing Director, MUGLER ), Michele Lo Forte (Global Head of E-Commerce and Digital Customer Engagement, BREITLING ) on Friday 23rd at 12:40am CET 4️⃣ Alexandre Mare will be joining Fabien Aufrechter (Head of Web3, Vivendi ), Sandy Carter (COO, Unstoppable Domains ), moderated by Farokh Sarmad (Rug Media) to discuss “Onboarding the Next Billions Users into Web3: Use Cases, Challenges, Opportunities” on Saturday 24th at 12:40am CET 5️⃣ Our Lead Developer Maxime Vaullerin will host a workshop on “Enhance Digital Product Passport Utilities with Interoperability” on Saturday 24th at 3:00pm CET Last but not least, we’ll be co-hosting the Speakers Dinner on Thursday, 22nd and a lunch with Polygon Labs on the 23rd in the VIP Lounge. If you have some time, go check out Musée d'Orsay , where my dear friend { Agoria } , an amazing musician and NFT artist, has opened an exhibition with two extraordinary works created specifically for the museum. Go check it out! I might be organizing a little private tour, so DM if you are interested ;-) It’s going to be a crazy week, looking forward to seeing you all. Thanks to the amazing Arianee team for making it happen. Don’t hesitate to drop me a note if you’re interested in setting up a meeting, want to attend any of the side events or need any food tips for Paris Click here to get the full Arianee agenda: https://lnkd.in/euJePd_D 📅 Save the Date: February 23-24, 2024 📍 Location: Grand Palais Éphémère, Paris\n",
      "Element 5 of the list: DualMint is set to launch Toji NFT, Japanese sake tokenized on the blockchain on the 2nd March,2024. It's in collaboration with the 200 year old sake producers, Daimon Brewery. This partnership is a big deal because it showcases real world assets tokenization apart from the existing real estate tokenization and financial product tokenization. Want to be a part of the launch? Read more in the latest newsletter.\n",
      "Element 6 of the list: This Week on RWA Insights 🚀 📌 Dive into how Day by Day leverages RWAs and AI to redefine insurance, 📌 Get ready for DualMint's Toji NFT launch on March 2nd, 2024. 📌 Explore our featured blog post on revolutionizing the commodities market. Don't miss out on these groundbreaking insights! #RWAInsights #DualMint #InsuranceInnovation #realworldassets #assettokenization #NFTlaunch #TojiNFT\n",
      "Element 7 of the list: Join me Saturday, February 24th at NFT Paris where I will be speaking alongside Fabien Aufrechter (Head of Web3, Vivendi), Sandy Carter (COO, Unstoppable Domains), moderated by Farokh Sarmad (Rug Media) to discuss “Onboarding the Next Billions Users into Web3: Use cases, Challenges, Opportunities”. Discover how Arianee’s digital product passports can unlock a new circular economy. Arianee will also have a massive presence at NFT Paris, full of panels, workshops & demo. See the full agenda below 👇 📅 Save the Date: February 23-24, 2024 📍 Location: Grand Palais Éphémère, Paris\n",
      "Element 8 of the list: NFT Paris 2024 starts in exactly one week! Besides taking over the VIP Lounge, we have a couple other things up our sleeve… Catch out our keynote, panels, workshop and look out for the Arianee team (hint: we might be wearing something pink 😉), especially in the Builder Zone booth #75.. Check out the details below, save and share this post, and see you next week! Day 1: February 23rd Opening keynote: From Hype to Purpose: Redefining NFTs for The Next Billion Users 🎤 Pierre-Nicolas Hurstel (CEO & Co-Founder, Arianee) 🗓️ 10:15am - 10:30am 📍 Main Stage Panel 1 : Digital Product Passports for Physical Goods: From Post Purchase Engagement to Circular Business Models 🎤 Eva Assayag (Head of IS & Organization Projects, Panerai), Adrian Corsin (Managing Director, MUGLER ), Michele Lo Forte (Global Head of E-Commerce and Digital Customer Engagement, BREITLING ) | Moderated by Delphine Eddé (CMO, Arianee) 🗓️12:40am - 1:10pm 📍Main Stage Panel 2: 2034: Unleashing the Potential of the Digital Luxury Market 🎤 ian rogers (Chief Experience Officer, Ledger ), Gmoney and Pierre-Nicolas (CEO & Co-Founder, Arianee) | Moderated by Amanda Cassatt ​​(CEO & Founder, Serotonin ) 🗓️11:00am - 11:30am 📍Main Stage Day 2: February 24th Panel 3: Onboarding The Next Billions Users into Web3: Use Cases, Challenges, Opportunities 🎤 Fabien Aufrechter (Head of Web3, Vivendi ), Sandy Carter (COO, Unstoppable Domains ) and Alexandre Mare (COO, Arianee) | Moderated by Farokh Sarmad , Rug Radio ) 🗓️12:40am - 1:10pm 📍Main Stage Workshop: Enhance Digital Product Passport Utilities with Interoperability - The Arianee Case 🎤 Maxime Vaullerin (Lead Developer, Arianee) 🗓️3:00pm - 3:35pm 📍Eiffel Stage 👀 Look out for more announcements next week! Book a meeting with us in advance: https://lnkd.in/guSVreC4 Still haven’t secured your tickets? Follow the link below and get a special discount with the code PN15 https://lnkd.in/dn8D3xHR Discover more on our digital product passport solutions: https://lnkd.in/e78re2hD 📅 Save the Date: February 23-24, 2024 📍 Location: Grand Palais Éphémère, Paris See you there!\n",
      "Element 9 of the list: Hello everyone Today, I had the chance to be part of the NFT Paris conference where I learned a wealth of new information about blockchain and its use cases across various industries such as finance, gaming, luxury, and more. I had the privilege to engage in discussions with numerous brilliant web3 developers and CEOs from companies like Maxence Perray from #Nomiks , Victor Briere from #Arianee , #Galaxy , #Ubisoft , #LouisVuitton , and many others. These conversations provided me with deeper insights into this innovative technology and its intersection with data science, particularly in terms of transparency and tokenization on the blockchain. #DataScience #Blockchain\n",
      "Element 10 of the list: “Comment acheter les NFT de ‘Eyes of Humanity’ et en tirer profit”\n",
      "Element 11 of the list: A guide to #Decentraland #NFTs and a snapshot of data trends.\n",
      "Element 12 of the list: For a long time I imagined, this term or there was always something. Well, and now, regardless of the circumstances, I said that waiting is enough and that nothing more needs to be done for this to happen. Thus, I publicly presented my alter ego \"The Knight with the Rose\" ( https://lnkd.in/gDWS9mas ), my music group MonteCristo ( https://lnkd.in/g_p2V9KQ ), and the first NFT of my book! and combined it all into the NIGHT WITHOUT GAME event. With this, exactly what I have been doing all my life was born and made sense. Art, lecture, conversation, music... the masks have fallen, the games are gone. We are the only ones left who watch with our hearts!\n",
      "Element 13 of the list: Brands can now create digital narratives where customers can actively participate, adding an immersive dimension to their marketing efforts. Imagine launching a product line where each item is accompanied by an NFT, each telling a different story of the brand's heritage or the product's journey. This approach not only enriches the customer experience but also fosters a deeper connection with the brand.\n",
      "Element 14 of the list: #Lugano #NFTfest #WEB3 #Crypto #Art\n",
      "Element 15 of the list: A bit more than 17 300 entries over 2 days - NFT Paris was a blast !! Particularly proud of the attendance of major companies in the luxury, sport, gaming, finance, art sector and their support this year. Even Tesla was here ! NFTs are evolving, the sector is becoming more mature - From Hype to purpose introduction keynote from Pierre-Nicolas Hurstel is the defining theme of this edition. Once hype is gone, what remains ? 1 - A brilliant community & culture. 2 - Real use cases that finally appear. Slowly, then all at once - let the consolidation do its work.\n",
      "Element 16 of the list: A guide to Bored Ape Yacht Club #NFTs and a snapshot of data trends.\n",
      "Element 17 of the list: A SaaS platform on top of the Arianee Protocol - to distribute gasless NFTs with special features and engage customers securely, anonymously and at scale!\n",
      "Element 18 of the list: NFTs are revolutionizing the way we think about ownership and value in the digital world in ways that are deeper and more meaningful than having a customer’s email address. But, as with any nascent technology, there's a lot of complexity to navigate. That's where the NFT Management Platform (NMP) comes in to make web3 more accessible to brands. In this article, we'll explore why we created the NMP and the future we envision for it. #ArianeeAcademy #FeatureDigest\n",
      "Element 19 of the list: Is this the best way to capitalize on a Web3 conference ? Some context : At the end of last year we decided with the BGA team to double down  on our effort to provide an opportunity for BGA members and Web3 Gaming enthusiasts to network and learn from each other. We want #BGAConnects to be the embodiment of this new comitment. During NFT Paris, we were very happy to see that the different verticals of BGAConnects made sense for every atendee : 🎤 Learn from the experience of those who are innovating. We were very fortunate to have Yat Siu , Nicolas Gilot among many brilliant entrepreneurs in our 5 panels. 🏆 Give an opportunity for start ups to meet potential investors 🕹 Just... Play some games and meet the visionaries who are behing. One last note : Always try to contribute to other events based on the expertise you could provide as a network of professionals in a specific ecosystem. Super happy that our members had the chance to play a role in some of the best side events of NFT Paris. See our takeaways here : https://lnkd.in/eGHhc336\n",
      "Element 20 of the list: In just two days, YSL Beauté will reveal their latest NFT chapter, \"The Night Is Ours\". As we wait in anticipation, let's take a trip down memory lane and check out all the fantastic drops they have previously released. Discover YSL Beauté web3 website: https://lnkd.in/g7hsT_Vq #ArianeeAcademy #CaseDigest\n",
      "Element 21 of the list: What a fantastic week at NFT Paris ! 🥂 Met so many incredible people in the #Web3 space and I spent some quality time with team members I don't often see face-to-face, like my CTO, Alexandre Cognard ! It was great sharing memories and talking about the progress made since I started at Arianee almost 2 years ago. Learning from him has been an incredible opportunity for me to develop my career and gain insight into other fields such as tech & management. Getting to know the ins and outs of their day-to-day work made me understand the tech team better. I gained insights into their viewpoints, strengthening mutual understanding & boosting alignment within the company. Thanks for the organization Alexandre Tsydenkov 🙌 Can't wait for next year !\n",
      "Element 22 of the list: Great coverage by Louise Laing of what's happening in Digital Fashion from NFT Paris. User-Generated Content is taking off and The Sandbox stands as a transformative force in the digital fashion landscape. “The next big designer will emerge from a platform like The Sandbox with their customers recognising them as the next big brand.” This is validated by initiatives like the Art of Runway and collaborations with Digital Fashion Week 3D designers, known as voxel creators, can present their creations for sale in the game, gaining exposure to a different audience and garnering the opportunity to monetise from their creations whilst growing their digital community. https://lnkd.in/eHxX2UXZ @TrueStarsMedia @nft_paris @DgtlFashionWeek\n",
      "Element 23 of the list: 📊  Fintech Focus 🔎  📢  NFTs - Are Non-Fungible Tokens The Next Big Thing  ⌛️ or Just Hype? Read my latest post  👇 to learn more and share your thoughts/experiences/ideas! #fintech #friday #nfts #nftcommunity #blockchain #cryptocurrency #cryptoexchange #art\n"
     ]
    },
    {
     "ename": "UnicodeEncodeError",
     "evalue": "'charmap' codec can't encode character '\\U0001f680' in position 70: character maps to <undefined>",
     "output_type": "error",
     "traceback": [
      "\u001b[1;31m---------------------------------------------------------------------------\u001b[0m",
      "\u001b[1;31mUnicodeEncodeError\u001b[0m                        Traceback (most recent call last)",
      "Cell \u001b[1;32mIn[5], line 41\u001b[0m\n\u001b[0;32m     37\u001b[0m \u001b[39mwith\u001b[39;00m \u001b[39mopen\u001b[39m(file_path, \u001b[39m'\u001b[39m\u001b[39mw\u001b[39m\u001b[39m'\u001b[39m) \u001b[39mas\u001b[39;00m file:\n\u001b[0;32m     38\u001b[0m     \u001b[39m# Iterate over the list\u001b[39;00m\n\u001b[0;32m     39\u001b[0m     \u001b[39mfor\u001b[39;00m item \u001b[39min\u001b[39;00m texts:\n\u001b[0;32m     40\u001b[0m         \u001b[39m# Write each item to the file, followed by a newline\u001b[39;00m\n\u001b[1;32m---> 41\u001b[0m         file\u001b[39m.\u001b[39;49mwrite(\u001b[39m'\u001b[39;49m\u001b[39m%s\u001b[39;49;00m\u001b[39m\\n\u001b[39;49;00m\u001b[39m'\u001b[39;49m \u001b[39m%\u001b[39;49m item)\n",
      "File \u001b[1;32mc:\\Program Files\\Python311\\Lib\\encodings\\cp1252.py:19\u001b[0m, in \u001b[0;36mIncrementalEncoder.encode\u001b[1;34m(self, input, final)\u001b[0m\n\u001b[0;32m     18\u001b[0m \u001b[39mdef\u001b[39;00m \u001b[39mencode\u001b[39m(\u001b[39mself\u001b[39m, \u001b[39minput\u001b[39m, final\u001b[39m=\u001b[39m\u001b[39mFalse\u001b[39;00m):\n\u001b[1;32m---> 19\u001b[0m     \u001b[39mreturn\u001b[39;00m codecs\u001b[39m.\u001b[39;49mcharmap_encode(\u001b[39minput\u001b[39;49m,\u001b[39mself\u001b[39;49m\u001b[39m.\u001b[39;49merrors,encoding_table)[\u001b[39m0\u001b[39m]\n",
      "\u001b[1;31mUnicodeEncodeError\u001b[0m: 'charmap' codec can't encode character '\\U0001f680' in position 70: character maps to <undefined>"
     ]
    }
   ],
   "source": [
    "from bs4 import BeautifulSoup\n",
    "\n",
    "def get_description(html):\n",
    "    # html = html.to_string()\n",
    "    # soup = BeautifulSoup(html, 'html.parser')\n",
    "    break_words_spans = html.find_all('span', class_='break-words')\n",
    "\n",
    "    print(\" - \")\n",
    "    extracted_texts = []\n",
    "    elementRemove = [\"Home\", \"My Network\", \"Jobs\", \"Messaging\",\"Notifications\" ]\n",
    "\n",
    "    for break_words_span in break_words_spans:\n",
    "     \n",
    "        new_text = break_words_span.get_text(separator=' ', strip=True)\n",
    "\n",
    "        \n",
    "        if  new_text not in elementRemove:\n",
    "            extracted_texts.append(new_text)\n",
    "\n",
    "\n",
    "\n",
    "    return extracted_texts\n",
    "\n",
    "\n",
    "\n",
    "texts = get_description(raw)\n",
    "for index, text in enumerate(texts, 1):\n",
    "    print(f\"Element {index} of the list:\", text)\n",
    "\n",
    "\n",
    "    # File path\n",
    "file_path = 'descriptions2.txt'\n",
    "\n",
    "\n",
    "\n",
    "# Open the file in write mode\n",
    "with open(file_path, 'w') as file:\n",
    "    # Iterate over the list\n",
    "    for item in texts:\n",
    "        # Write each item to the file, followed by a newline\n",
    "        file.write('%s\\n' % item)\n"
   ]
  },
  {
   "cell_type": "markdown",
   "metadata": {},
   "source": [
    "Extract names"
   ]
  },
  {
   "cell_type": "code",
   "execution_count": null,
   "metadata": {},
   "outputs": [
    {
     "name": "stdout",
     "output_type": "stream",
     "text": [
      "Element 1 of the list: Matías Ricardo Méndez Sandoval (He/him) • You Data | Artificial Intelligence | Machine Learning\n",
      "Element 2 of the list: AYMARD NGUEMO • 1st Master student in ArtificiaI intelligence &amp; Data Science at Aivancity with experience as a full stack developer looking for an internship\n",
      "Element 3 of the list: SKOR Metaverse 780 followers\n",
      "Element 4 of the list: Pierre-Nicolas Hurstel • Following CEO &amp; Co-founder @Arianee\n",
      "Element 5 of the list: Norm Bond • 3rd+ Founder, Global Blockchain Leaders Network | Digital Marketer | Consultant | Strategist | AI &amp; ChatGPT, Business, Web3, Crypto, DeFi, Blockchain\n",
      "Element 6 of the list: Alexandre Mare • 1st COO @ Arianee\n",
      "Element 7 of the list: Arianee 12,849 followers\n",
      "Element 8 of the list: AYMARD NGUEMO • 1st Master student in ArtificiaI intelligence &amp; Data Science at Aivancity with experience as a full stack developer looking for an internship\n",
      "Element 9 of the list: Footprint Analytics 1,405 followers\n",
      "Element 10 of the list: DDr. Milan KRAJNC • 3rd+ Communication Architect l CEO @ US Profiling Institute | Ph.D. in Management and Personality psychology\n",
      "Element 11 of the list: Roberto Gorini • 3rd+ Founder of Original, Noku and NFT Fest. Cryptos supporter. Author of books: Matrix Economy, Crypto Economy, and Caos Economy.\n",
      "Element 12 of the list: Dinh Dinh Nguyen Pham • 3rd+ #NFTgames #Web3 #Blockchain Maketer\n",
      "Element 13 of the list: Alexandre Tsydenkov • 2nd Founder NFT Paris - e/acc\n",
      "Element 14 of the list: Footprint Analytics 1,405 followers\n",
      "Element 15 of the list: Nathan Hirsch • 1st Product Manager in Web3\n",
      "Element 16 of the list: Arianee 12,849 followers\n",
      "Element 17 of the list: Arianee 12,849 followers\n",
      "Element 18 of the list: Flavien Defraire • 3rd+ Blockchain Gaming | Music &amp; Brands Expert\n",
      "Element 19 of the list: Téo Voire (He/Him) • 1st Finance &amp; Opération analyst @Arianee | Web 3.0\n",
      "Element 20 of the list: BORGET Sebastien • 3rd+ Co-Founder &amp; COO of The Sandbox, decentralized gaming virtual world. President of the Blockchain Game Alliance, advocating for #NFTs &amp; blockchain in games.\n",
      "Element 21 of the list: Christina Trampota (she/her/ella) • Following Chief Product Officer | Advisor | Board Member | Keynote Speaker | Go-To-Market | Payments | Fintech | E-Commerce | Digital Advertising\n",
      "Element 22 of the list: Arianee 12,849 followers\n"
     ]
    }
   ],
   "source": [
    "def get_names_header(html):\n",
    "    atags = html.find_all('a', class_ ='app-aware-link update-components-actor__meta-link')\n",
    "    \n",
    "    result = []\n",
    "    for tag in atags:\n",
    "        #working\n",
    "        aria_label = tag['aria-label']\n",
    "        aria_label = aria_label.replace(\"View: \", \"\") \n",
    "        \n",
    "        result.append(aria_label)\n",
    "    return result\n",
    "\n",
    "\n",
    "\n",
    "names_header = get_names_header(raw)\n",
    "for index, text in enumerate(names_header, 1):\n",
    "    print(f\"Element {index} of the list:\", text)"
   ]
  },
  {
   "cell_type": "code",
   "execution_count": null,
   "metadata": {},
   "outputs": [
    {
     "name": "stdout",
     "output_type": "stream",
     "text": [
      "Element 1 of the list: 14 Auriane Marty and 13 others\n",
      "Element 2 of the list: 35 AYMARD NGUEMO and 34 others\n",
      "Element 3 of the list: 181\n",
      "Element 4 of the list: 53 Auriane Marty and 52 others\n",
      "Element 5 of the list: 13\n",
      "Element 6 of the list: 13 Carijn Xiu Stoute and 12 others\n",
      "Element 7 of the list: 18\n",
      "Element 8 of the list: 20\n",
      "Element 9 of the list: 26\n",
      "Element 10 of the list: 4\n",
      "Element 11 of the list: 182 Auriane Marty and 181 others\n",
      "Element 12 of the list: 6\n",
      "Element 13 of the list: 54\n",
      "Element 14 of the list: 64\n",
      "Element 15 of the list: 59 Zoé Daguenet and 58 others\n",
      "Element 16 of the list: 16\n",
      "Element 17 of the list: 11\n",
      "Element 18 of the list: 36\n"
     ]
    }
   ],
   "source": [
    "def get_reactions(html):\n",
    "    reactions = html.find_all('button', class_ ='t-black--light display-flex align-items-center social-details-social-counts__count-value t-12 hoverable-link-text')\n",
    "   \n",
    "    result = []\n",
    "\n",
    "    for r in reactions:\n",
    "        new_text = r.get_text(separator=' ', strip=True)\n",
    "        result.append(new_text)\n",
    "    return result\n",
    "\n",
    "reactions = get_reactions(raw)\n",
    "        \n",
    "for index, text in enumerate(reactions, 1):\n",
    "    print(f\"Element {index} of the list:\", text) "
   ]
  }
 ],
 "metadata": {
  "kernelspec": {
   "display_name": "Python 3",
   "language": "python",
   "name": "python3"
  },
  "language_info": {
   "codemirror_mode": {
    "name": "ipython",
    "version": 3
   },
   "file_extension": ".py",
   "mimetype": "text/x-python",
   "name": "python",
   "nbconvert_exporter": "python",
   "pygments_lexer": "ipython3",
   "version": "3.11.1"
  },
  "orig_nbformat": 4
 },
 "nbformat": 4,
 "nbformat_minor": 2
}
