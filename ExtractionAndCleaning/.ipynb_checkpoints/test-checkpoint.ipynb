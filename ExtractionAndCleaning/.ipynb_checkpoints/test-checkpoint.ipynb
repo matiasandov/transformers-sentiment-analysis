{
 "cells": [
  {
   "cell_type": "code",
   "execution_count": 14,
   "metadata": {},
   "outputs": [
    {
     "name": "stdout",
     "output_type": "stream",
     "text": [
      " - \n",
      "Element 1 of the list: Meet us at NFT Paris or one of its side events, starting today with our own joint event Looking Forward: Tackling Brands’ Opportunities in Web3 with our partners Plug and Play Tech Center , Cometh and Aura Blockchain Consortium\n",
      "Element 2 of the list: AKIRA PIERRE LANA DEL REY HOLIII or one of its side events, starting today with our own joint event Looking Forward: Tackling Brands’ Opportunities in Web3 with our partners Plug and Play Tech Center , Cometh and Aura Blockchain Consortium\n"
     ]
    }
   ],
   "source": [
    "from bs4 import BeautifulSoup\n",
    "\n",
    "def extract_text_from_html(html):\n",
    "    soup = BeautifulSoup(html, 'html.parser')\n",
    "    break_words_spans = soup.find_all('span', class_='break-words')\n",
    "\n",
    "    print(\" - \")\n",
    "    extracted_texts = []\n",
    "    for break_words_span in break_words_spans:\n",
    "     \n",
    "        new_text = break_words_span.get_text(separator=' ', strip=True)\n",
    "\n",
    "        \n",
    "        if new_text not in extracted_texts:\n",
    "            extracted_texts.append(new_text)\n",
    "\n",
    "    return extracted_texts\n",
    "\n",
    "html_code = '''\n",
    "<span class=\"break-words\">\n",
    "    <!-- --> <span><span dir=\"ltr\">Meet us at <a data-attribute-index=\"0\" data-entity-type=\"MINI_COMPANY\" href=\"https://www.linkedin.com/company/nftparis/\">NFT Paris</a> or one of its side events, starting today with our own joint event Looking Forward: Tackling Brands’ Opportunities in Web3 with our partners <a data-attribute-index=\"2\" data-entity-type=\"MINI_COMPANY\" href=\"https://www.linkedin.com/company/plug-and-play-tech-center/\">Plug and Play Tech Center</a>, <a data-attribute-index=\"4\" data-entity-type=\"MINI_COMPANY\" href=\"https://www.linkedin.com/company/comethstudio/\">Cometh</a> and <a data-attribute-index=\"6\" data-entity-type=\"MINI_COMPANY\" href=\"https://www.linkedin.com/company/aura-blockchain-consortium/\">Aura Blockchain Consortium</a></span></span>\n",
    "</span>\n",
    "\n",
    "<span class=\"break-words\">\n",
    "    <!-- --> <span><span dir=\"ltr\">  PIERRE LANA DEL REY <a data-attribute-index=\"0\" data-entity-type=\"MINI_COMPANY\" href=\"https://www.linkedin.com/company/nftparis/\"> HOLIII</a> or one of its side events, starting today with our own joint event Looking Forward: Tackling Brands’ Opportunities in Web3 with our partners <a data-attribute-index=\"2\" data-entity-type=\"MINI_COMPANY\" href=\"https://www.linkedin.com/company/plug-and-play-tech-center/\">Plug and Play Tech Center</a>, <a data-attribute-index=\"4\" data-entity-type=\"MINI_COMPANY\" href=\"https://www.linkedin.com/company/comethstudio/\">Cometh</a> and <a data-attribute-index=\"6\" data-entity-type=\"MINI_COMPANY\" href=\"https://www.linkedin.com/company/aura-blockchain-consortium/\">Aura Blockchain Consortium</a></span></span>\n",
    "</span>\n",
    "\n",
    "<span class=\"break-words\">\n",
    "    <!-- --> <span><span dir=\"ltr\"> Nuevo PIERRE LANA DEL REY <a data-attribute-index=\"0\" data-entity-type=\"MINI_COMPANY\" href=\"https://www.linkedin.com/company/nftparis/\"> HOLIII</a> or one of its side events, starting today with our own joint event Looking Forward: Tackling Brands’ Opportunities in Web3 with our partners <a data-attribute-index=\"2\" data-entity-type=\"MINI_COMPANY\" href=\"https://www.linkedin.com/company/plug-and-play-tech-center/\">Plug and Play Tech Center</a>, <a data-attribute-index=\"4\" data-entity-type=\"MINI_COMPANY\" href=\"https://www.linkedin.com/company/comethstudio/\">Cometh</a> and <a data-attribute-index=\"6\" data-entity-type=\"MINI_COMPANY\" href=\"https://www.linkedin.com/company/aura-blockchain-consortium/\">Aura Blockchain Consortium</a></span></span>\n",
    "</span>\n",
    "'''\n",
    "\n",
    "texts = extract_text_from_html(html_code)\n",
    "for index, text in enumerate(texts, 1):\n",
    "    print(f\"Element {index} of the list:\", text)\n",
    "\n"
   ]
  }
 ],
 "metadata": {
  "kernelspec": {
   "display_name": "Python 3",
   "language": "python",
   "name": "python3"
  },
  "language_info": {
   "codemirror_mode": {
    "name": "ipython",
    "version": 3
   },
   "file_extension": ".py",
   "mimetype": "text/x-python",
   "name": "python",
   "nbconvert_exporter": "python",
   "pygments_lexer": "ipython3",
   "version": "3.9.6"
  }
 },
 "nbformat": 4,
 "nbformat_minor": 2
}
