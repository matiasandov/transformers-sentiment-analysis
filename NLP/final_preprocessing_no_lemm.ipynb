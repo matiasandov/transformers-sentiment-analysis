{
 "cells": [
  {
   "cell_type": "code",
   "execution_count": 12,
   "metadata": {},
   "outputs": [],
   "source": [
    "from nltk.corpus import stopwords\n",
    "import pandas as pd\n",
    "import re "
   ]
  },
  {
   "cell_type": "code",
   "execution_count": 13,
   "metadata": {},
   "outputs": [
    {
     "name": "stdout",
     "output_type": "stream",
     "text": [
      "Len stopwords before:  179\n",
      "Len stopwords after:  153\n"
     ]
    }
   ],
   "source": [
    "allstopwords = set(stopwords.words('english'))\n",
    "prepositions = {\n",
    "    'about', 'above', 'across', 'after', 'against', 'along', 'among', 'around', 'at',\n",
    "    'before', 'behind', 'below', 'beneath', 'beside', 'between', 'beyond', 'by',\n",
    "    'down', 'during', 'except', 'for', 'from', 'in', 'inside', 'into', 'like',\n",
    "    'near', 'of', 'off', 'on', 'onto', 'out', 'outside', 'over', 'past', 'since',\n",
    "    'through', 'throughout', 'to', 'toward', 'under', 'until', 'up', 'upon', 'with',\n",
    "    'within', 'without'\n",
    "}\n",
    "print(\"Len stopwords before: \", len(allstopwords) )\n",
    "allstopwords = allstopwords - prepositions\n",
    "print(\"Len stopwords after: \", len(allstopwords) )"
   ]
  },
  {
   "cell_type": "code",
   "execution_count": 14,
   "metadata": {},
   "outputs": [
    {
     "name": "stdout",
     "output_type": "stream",
     "text": [
      "['[]', '[\"Last week I had the pleasure to NFT Paris by the hand of Arianee . Witnessing the transformative power of Web3 and NFTs in reshaping the concept of ownership, particularly in relation to our personal data, left me inspired and eager to delve deeper into the evolving landscape of decentralized technologies. The event sparked valuable insights, and I\\'m excited to continue navigating the dynamic realm of blockchain innovations. #NFTParis #Web3 #OwnershipRevolution\"]', \"['Hello everyone Today, my friends Asma Ghamacha , Hermes Yan NTJAM NDJENG , Harold Geumtcheng , Aloys Aymrick Nzooh , Bryan Fozame and I had the chance to be part of the NFT Paris conference thanks to our school aivancity School for Technology, Business & Society Paris-Cachan where we learned a wealth of new information about blockchain, metaverse, web3 and its use cases across various industries such as finance, gaming, luxury, and more. During this enI had the privilege to engage in discussions with numerous brilliant web3 developers and CEOs from companies like Maxence Perray from Nomiks , Victor Briere from Arianee , Ubisoft , Louis Vuitton , and many others. These conversations provided me with deeper insights into this innovative technology and its intersection with data science, particularly in terms of transparency and tokenization on the blockchain. #DataScience #Blockchain']\", \"['The digital world continues to intersect with traditional art forms as online trading platform Robinhood partners with Notable.art to bring prominent artist Hunt Slonem’s work to a wider audience through the use of Non-Fungible Tokens (NFTs) Sign up on our website to automatically enter our monthly prize raffle https://lnkd.in/dMcKcrpf #robbinhood #notableart #huntslonem #art #nfts #technology #artists #robbinhoodwallet #technology #digitalinnovation #brands #artwork #blockchaintechnology #metaverse #blockchain #futursm #web3 #userexperience #investements #fundraising #angelinvestors #venturecapitalist']\", '[\"Can’t wait to welcome everyone in Paris this week for NFT Paris 2024! 🚀 Shout to Alexandre Tsydenkov and the team at NFT Paris who have done an awesome job creating and curating one of the most relevant B2B and B2C web3 events in the world. Arianee & I will be present throughout the week at side-events, panels and of course, the main event on the 23rd and 24th with demos and a workshop. This year, Arianee will be taking a different approach with new activations: from taking over the VIP lounge, where we will be exhibiting all the brands building on our technology… from BREITLING to Panerai , Moncler , and many more, showcasing our tokenized digital product passports. Join me on stage on February 23rd for: 1️⃣ The opening keynote “From Hype to Purpose - Redefining NFTs for the next billion users”, at 10:15am CET 2️⃣ A panel with ian rogers (Chief Experience Officer, Ledger ) and Gmoney, on “Unleashing the Potential of the Digital Luxury Market” at 11:00am CET Our fellow team members & esteemed partners will also be on stage: 3️⃣ Delphine Eddé , our CMO, will be moderating a panel on “Digital Product Passports for Physical Goods: From Post Purchase Engagement to Circular Business Models with Eva Assayag (Head of IS & Organization Projects, Panerai ), Adrian Corsin (Managing Director, MUGLER ), Michele Lo Forte (Global Head of E-Commerce and Digital Customer Engagement, BREITLING ) on Friday 23rd at 12:40am CET 4️⃣ Alexandre Mare will be joining Fabien Aufrechter (Head of Web3, Vivendi ), Sandy Carter (COO, Unstoppable Domains ), moderated by Farokh Sarmad (Rug Media) to discuss “Onboarding the Next Billions Users into Web3: Use Cases, Challenges, Opportunities” on Saturday 24th at 12:40am CET 5️⃣ Our Lead Developer Maxime Vaullerin will host a workshop on “Enhance Digital Product Passport Utilities with Interoperability” on Saturday 24th at 3:00pm CET Last but not least, we’ll be co-hosting the Speakers Dinner on Thursday, 22nd and a lunch with Polygon Labs on the 23rd in the VIP Lounge. If you have some time, go check out Musée d\\'Orsay , where my dear friend { Agoria } , an amazing musician and NFT artist, has opened an exhibition with two extraordinary works created specifically for the museum. Go check it out! I might be organizing a little private tour, so DM if you are interested ;-) It’s going to be a crazy week, looking forward to seeing you all. Thanks to the amazing Arianee team for making it happen. Don’t hesitate to drop me a note if you’re interested in setting up a meeting, want to attend any of the side events or need any food tips for Paris Click here to get the full Arianee agenda: https://lnkd.in/euJePd_D 📅 Save the Date: February 23-24, 2024 📍 Location: Grand Palais Éphémère, Paris\"]', '[\"DualMint is set to launch Toji NFT, Japanese sake tokenized on the blockchain on the 2nd March,2024. It\\'s in collaboration with the 200 year old sake producers, Daimon Brewery. This partnership is a big deal because it showcases real world assets tokenization apart from the existing real estate tokenization and financial product tokenization. Want to be a part of the launch? Read more in the latest newsletter.\", \"This Week on RWA Insights 🚀 📌 Dive into how Day by Day leverages RWAs and AI to redefine insurance, 📌 Get ready for DualMint\\'s Toji NFT launch on March 2nd, 2024. 📌 Explore our featured blog post on revolutionizing the commodities market. Don\\'t miss out on these groundbreaking insights! #RWAInsights #DualMint #InsuranceInnovation #realworldassets #assettokenization #NFTlaunch #TojiNFT\"]', \"['Join me Saturday, February 24th at NFT Paris where I will be speaking alongside Fabien Aufrechter (Head of Web3, Vivendi), Sandy Carter (COO, Unstoppable Domains), moderated by Farokh Sarmad (Rug Media) to discuss “Onboarding the Next Billions Users into Web3: Use cases, Challenges, Opportunities”. Discover how Arianee’s digital product passports can unlock a new circular economy. Arianee will also have a massive presence at NFT Paris, full of panels, workshops & demo. See the full agenda below 👇 📅 Save the Date: February 23-24, 2024 📍 Location: Grand Palais Éphémère, Paris', 'NFT Paris 2024 starts in exactly one week! Besides taking over the VIP Lounge, we have a couple other things up our sleeve… Catch out our keynote, panels, workshop and look out for the Arianee team (hint: we might be wearing something pink 😉), especially in the Builder Zone booth #75.. Check out the details below, save and share this post, and see you next week! Day 1: February 23rd Opening keynote: From Hype to Purpose: Redefining NFTs for The Next Billion Users 🎤 Pierre-Nicolas Hurstel (CEO & Co-Founder, Arianee) 🗓️ 10:15am - 10:30am 📍 Main Stage Panel 1 : Digital Product Passports for Physical Goods: From Post Purchase Engagement to Circular Business Models 🎤 Eva Assayag (Head of IS & Organization Projects, Panerai), Adrian Corsin (Managing Director, MUGLER ), Michele Lo Forte (Global Head of E-Commerce and Digital Customer Engagement, BREITLING ) | Moderated by Delphine Eddé (CMO, Arianee) 🗓️12:40am - 1:10pm 📍Main Stage Panel 2: 2034: Unleashing the Potential of the Digital Luxury Market 🎤 ian rogers (Chief Experience Officer, Ledger ), Gmoney and Pierre-Nicolas (CEO & Co-Founder, Arianee) | Moderated by Amanda Cassatt \\\\u200b\\\\u200b(CEO & Founder, Serotonin ) 🗓️11:00am - 11:30am 📍Main Stage Day 2: February 24th Panel 3: Onboarding The Next Billions Users into Web3: Use Cases, Challenges, Opportunities 🎤 Fabien Aufrechter (Head of Web3, Vivendi ), Sandy Carter (COO, Unstoppable Domains ) and Alexandre Mare (COO, Arianee) | Moderated by Farokh Sarmad , Rug Radio ) 🗓️12:40am - 1:10pm 📍Main Stage Workshop: Enhance Digital Product Passport Utilities with Interoperability - The Arianee Case 🎤 Maxime Vaullerin (Lead Developer, Arianee) 🗓️3:00pm - 3:35pm 📍Eiffel Stage 👀 Look out for more announcements next week! Book a meeting with us in advance: https://lnkd.in/guSVreC4 Still haven’t secured your tickets? Follow the link below and get a special discount with the code PN15 https://lnkd.in/dn8D3xHR Discover more on our digital product passport solutions: https://lnkd.in/e78re2hD 📅 Save the Date: February 23-24, 2024 📍 Location: Grand Palais Éphémère, Paris See you there!']\", \"['Hello everyone Today, I had the chance to be part of the NFT Paris conference where I learned a wealth of new information about blockchain and its use cases across various industries such as finance, gaming, luxury, and more. I had the privilege to engage in discussions with numerous brilliant web3 developers and CEOs from companies like Maxence Perray from #Nomiks , Victor Briere from #Arianee , #Galaxy , #Ubisoft , #LouisVuitton , and many others. These conversations provided me with deeper insights into this innovative technology and its intersection with data science, particularly in terms of transparency and tokenization on the blockchain. #DataScience #Blockchain']\", \"['“Comment acheter les NFT de ‘Eyes of Humanity’ et en tirer profit”']\", \"['A guide to #Decentraland #NFTs and a snapshot of data trends.']\", '[\\'For a long time I imagined, this term or there was always something. Well, and now, regardless of the circumstances, I said that waiting is enough and that nothing more needs to be done for this to happen. Thus, I publicly presented my alter ego \"The Knight with the Rose\" ( https://lnkd.in/gDWS9mas ), my music group MonteCristo ( https://lnkd.in/g_p2V9KQ ), and the first NFT of my book! and combined it all into the NIGHT WITHOUT GAME event. With this, exactly what I have been doing all my life was born and made sense. Art, lecture, conversation, music... the masks have fallen, the games are gone. We are the only ones left who watch with our hearts!\\']', '[\"Brands can now create digital narratives where customers can actively participate, adding an immersive dimension to their marketing efforts. Imagine launching a product line where each item is accompanied by an NFT, each telling a different story of the brand\\'s heritage or the product\\'s journey. This approach not only enriches the customer experience but also fosters a deeper connection with the brand.\"]', \"['#Lugano #NFTfest #WEB3 #Crypto #Art']\", \"['A bit more than 17 300 entries over 2 days - NFT Paris was a blast !! Particularly proud of the attendance of major companies in the luxury, sport, gaming, finance, art sector and their support this year. Even Tesla was here ! NFTs are evolving, the sector is becoming more mature - From Hype to purpose introduction keynote from Pierre-Nicolas Hurstel is the defining theme of this edition. Once hype is gone, what remains ? 1 - A brilliant community & culture. 2 - Real use cases that finally appear. Slowly, then all at once - let the consolidation do its work.']\", \"['A guide to Bored Ape Yacht Club #NFTs and a snapshot of data trends.']\", '[\\'A SaaS platform on top of the Arianee Protocol - to distribute gasless NFTs with special features and engage customers securely, anonymously and at scale!\\', \"NFTs are revolutionizing the way we think about ownership and value in the digital world in ways that are deeper and more meaningful than having a customer’s email address. But, as with any nascent technology, there\\'s a lot of complexity to navigate. That\\'s where the NFT Management Platform (NMP) comes in to make web3 more accessible to brands. In this article, we\\'ll explore why we created the NMP and the future we envision for it. #ArianeeAcademy #FeatureDigest\"]', \"['Is this the best way to capitalize on a Web3 conference ? Some context : At the end of last year we decided with the BGA team to double down  on our effort to provide an opportunity for BGA members and Web3 Gaming enthusiasts to network and learn from each other. We want #BGAConnects to be the embodiment of this new comitment. During NFT Paris, we were very happy to see that the different verticals of BGAConnects made sense for every atendee : 🎤 Learn from the experience of those who are innovating. We were very fortunate to have Yat Siu , Nicolas Gilot among many brilliant entrepreneurs in our 5 panels. 🏆 Give an opportunity for start ups to meet potential investors 🕹 Just... Play some games and meet the visionaries who are behing. One last note : Always try to contribute to other events based on the expertise you could provide as a network of professionals in a specific ecosystem. Super happy that our members had the chance to play a role in some of the best side events of NFT Paris. See our takeaways here : https://lnkd.in/eGHhc336']\", '[\\'In just two days, YSL Beauté will reveal their latest NFT chapter, \"The Night Is Ours\". As we wait in anticipation, let\\\\\\'s take a trip down memory lane and check out all the fantastic drops they have previously released. Discover YSL Beauté web3 website: https://lnkd.in/g7hsT_Vq #ArianeeAcademy #CaseDigest\\']', '[\"What a fantastic week at NFT Paris ! 🥂 Met so many incredible people in the #Web3 space and I spent some quality time with team members I don\\'t often see face-to-face, like my CTO, Alexandre Cognard ! It was great sharing memories and talking about the progress made since I started at Arianee almost 2 years ago. Learning from him has been an incredible opportunity for me to develop my career and gain insight into other fields such as tech & management. Getting to know the ins and outs of their day-to-day work made me understand the tech team better. I gained insights into their viewpoints, strengthening mutual understanding & boosting alignment within the company. Thanks for the organization Alexandre Tsydenkov 🙌 Can\\'t wait for next year !\"]', '[\"Great coverage by Louise Laing of what\\'s happening in Digital Fashion from NFT Paris. User-Generated Content is taking off and The Sandbox stands as a transformative force in the digital fashion landscape. “The next big designer will emerge from a platform like The Sandbox with their customers recognising them as the next big brand.” This is validated by initiatives like the Art of Runway and collaborations with Digital Fashion Week 3D designers, known as voxel creators, can present their creations for sale in the game, gaining exposure to a different audience and garnering the opportunity to monetise from their creations whilst growing their digital community. https://lnkd.in/eHxX2UXZ @TrueStarsMedia @nft_paris @DgtlFashionWeek\"]', \"['📊  Fintech Focus 🔎  📢  NFTs - Are Non-Fungible Tokens The Next Big Thing  ⌛️ or Just Hype? Read my latest post  👇 to learn more and share your thoughts/experiences/ideas! #fintech #friday #nfts #nftcommunity #blockchain #cryptocurrency #cryptoexchange #art']\"]\n"
     ]
    }
   ],
   "source": [
    "# Open the text file in read mode\n",
    "with open('descriptions_pre_NLP.txt', 'r', encoding='utf-8') as file:\n",
    "    # Read each line from the file and strip newline characters\n",
    "    descriptions = [line.strip() for line in file.readlines()]\n",
    "\n",
    "# Print the list containing each line as an item\n",
    "print(descriptions)\n"
   ]
  },
  {
   "cell_type": "code",
   "execution_count": 15,
   "metadata": {},
   "outputs": [],
   "source": [
    "descriptions = descriptions[1:]"
   ]
  },
  {
   "cell_type": "code",
   "execution_count": 16,
   "metadata": {},
   "outputs": [],
   "source": [
    "def remove_hashtags(text):\n",
    "    # Use a regular expression to find and remove hashtags\n",
    "    #replaces every hashtag with a ''\n",
    "    cleaned_text = re.sub(r'#\\w+', '', text)\n",
    "    return cleaned_text.strip()"
   ]
  },
  {
   "cell_type": "code",
   "execution_count": 17,
   "metadata": {},
   "outputs": [],
   "source": [
    "def hashtag_at_end(phrase):\n",
    "    words = phrase.split()\n",
    "    if words[-1].startswith(\"#\"):\n",
    "        return True\n",
    "    else:\n",
    "        return False"
   ]
  },
  {
   "cell_type": "code",
   "execution_count": 18,
   "metadata": {},
   "outputs": [
    {
     "data": {
      "text/plain": [
       "['[\"Last week I had the pleasure to NFT Paris by the hand of Arianee . Witnessing the transformative power of Web3 and NFTs in reshaping the concept of ownership, particularly in relation to our personal data, left me inspired and eager to delve deeper into the evolving landscape of decentralized technologies. The event sparked valuable insights, and I\\'m excited to continue navigating the dynamic realm of blockchain innovations.   \"]',\n",
       " \"['Hello everyone Today, my friends Asma Ghamacha , Hermes Yan NTJAM NDJENG , Harold Geumtcheng , Aloys Aymrick Nzooh , Bryan Fozame and I had the chance to be part of the NFT Paris conference thanks to our school aivancity School for Technology, Business & Society Paris-Cachan where we learned a wealth of new information about blockchain, metaverse, web3 and its use cases across various industries such as finance, gaming, luxury, and more. During this enI had the privilege to engage in discussions with numerous brilliant web3 developers and CEOs from companies like Maxence Perray from Nomiks , Victor Briere from Arianee , Ubisoft , Louis Vuitton , and many others. These conversations provided me with deeper insights into this innovative technology and its intersection with data science, particularly in terms of transparency and tokenization on the blockchain.  ']\",\n",
       " \"['The digital world continues to intersect with traditional art forms as online trading platform Robinhood partners with Notable.art to bring prominent artist Hunt Slonem’s work to a wider audience through the use of Non-Fungible Tokens (NFTs) Sign up on our website to automatically enter our monthly prize raffle https://lnkd.in/dMcKcrpf                      ']\",\n",
       " '[\"Can’t wait to welcome everyone in Paris this week for NFT Paris 2024! 🚀 Shout to Alexandre Tsydenkov and the team at NFT Paris who have done an awesome job creating and curating one of the most relevant B2B and B2C web3 events in the world. Arianee & I will be present throughout the week at side-events, panels and of course, the main event on the 23rd and 24th with demos and a workshop. This year, Arianee will be taking a different approach with new activations: from taking over the VIP lounge, where we will be exhibiting all the brands building on our technology… from BREITLING to Panerai , Moncler , and many more, showcasing our tokenized digital product passports. Join me on stage on February 23rd for: 1️⃣ The opening keynote “From Hype to Purpose - Redefining NFTs for the next billion users”, at 10:15am CET 2️⃣ A panel with ian rogers (Chief Experience Officer, Ledger ) and Gmoney, on “Unleashing the Potential of the Digital Luxury Market” at 11:00am CET Our fellow team members & esteemed partners will also be on stage: 3️⃣ Delphine Eddé , our CMO, will be moderating a panel on “Digital Product Passports for Physical Goods: From Post Purchase Engagement to Circular Business Models with Eva Assayag (Head of IS & Organization Projects, Panerai ), Adrian Corsin (Managing Director, MUGLER ), Michele Lo Forte (Global Head of E-Commerce and Digital Customer Engagement, BREITLING ) on Friday 23rd at 12:40am CET 4️⃣ Alexandre Mare will be joining Fabien Aufrechter (Head of Web3, Vivendi ), Sandy Carter (COO, Unstoppable Domains ), moderated by Farokh Sarmad (Rug Media) to discuss “Onboarding the Next Billions Users into Web3: Use Cases, Challenges, Opportunities” on Saturday 24th at 12:40am CET 5️⃣ Our Lead Developer Maxime Vaullerin will host a workshop on “Enhance Digital Product Passport Utilities with Interoperability” on Saturday 24th at 3:00pm CET Last but not least, we’ll be co-hosting the Speakers Dinner on Thursday, 22nd and a lunch with Polygon Labs on the 23rd in the VIP Lounge. If you have some time, go check out Musée d\\'Orsay , where my dear friend { Agoria } , an amazing musician and NFT artist, has opened an exhibition with two extraordinary works created specifically for the museum. Go check it out! I might be organizing a little private tour, so DM if you are interested ;-) It’s going to be a crazy week, looking forward to seeing you all. Thanks to the amazing Arianee team for making it happen. Don’t hesitate to drop me a note if you’re interested in setting up a meeting, want to attend any of the side events or need any food tips for Paris Click here to get the full Arianee agenda: https://lnkd.in/euJePd_D 📅 Save the Date: February 23-24, 2024 📍 Location: Grand Palais Éphémère, Paris\"]',\n",
       " '[\"DualMint is set to launch Toji NFT, Japanese sake tokenized on the blockchain on the 2nd March,2024. It\\'s in collaboration with the 200 year old sake producers, Daimon Brewery. This partnership is a big deal because it showcases real world assets tokenization apart from the existing real estate tokenization and financial product tokenization. Want to be a part of the launch? Read more in the latest newsletter.\", \"This Week on RWA Insights 🚀 📌 Dive into how Day by Day leverages RWAs and AI to redefine insurance, 📌 Get ready for DualMint\\'s Toji NFT launch on March 2nd, 2024. 📌 Explore our featured blog post on revolutionizing the commodities market. Don\\'t miss out on these groundbreaking insights!       \"]',\n",
       " \"['Join me Saturday, February 24th at NFT Paris where I will be speaking alongside Fabien Aufrechter (Head of Web3, Vivendi), Sandy Carter (COO, Unstoppable Domains), moderated by Farokh Sarmad (Rug Media) to discuss “Onboarding the Next Billions Users into Web3: Use cases, Challenges, Opportunities”. Discover how Arianee’s digital product passports can unlock a new circular economy. Arianee will also have a massive presence at NFT Paris, full of panels, workshops & demo. See the full agenda below 👇 📅 Save the Date: February 23-24, 2024 📍 Location: Grand Palais Éphémère, Paris', 'NFT Paris 2024 starts in exactly one week! Besides taking over the VIP Lounge, we have a couple other things up our sleeve… Catch out our keynote, panels, workshop and look out for the Arianee team (hint: we might be wearing something pink 😉), especially in the Builder Zone booth #75.. Check out the details below, save and share this post, and see you next week! Day 1: February 23rd Opening keynote: From Hype to Purpose: Redefining NFTs for The Next Billion Users 🎤 Pierre-Nicolas Hurstel (CEO & Co-Founder, Arianee) 🗓️ 10:15am - 10:30am 📍 Main Stage Panel 1 : Digital Product Passports for Physical Goods: From Post Purchase Engagement to Circular Business Models 🎤 Eva Assayag (Head of IS & Organization Projects, Panerai), Adrian Corsin (Managing Director, MUGLER ), Michele Lo Forte (Global Head of E-Commerce and Digital Customer Engagement, BREITLING ) | Moderated by Delphine Eddé (CMO, Arianee) 🗓️12:40am - 1:10pm 📍Main Stage Panel 2: 2034: Unleashing the Potential of the Digital Luxury Market 🎤 ian rogers (Chief Experience Officer, Ledger ), Gmoney and Pierre-Nicolas (CEO & Co-Founder, Arianee) | Moderated by Amanda Cassatt \\\\u200b\\\\u200b(CEO & Founder, Serotonin ) 🗓️11:00am - 11:30am 📍Main Stage Day 2: February 24th Panel 3: Onboarding The Next Billions Users into Web3: Use Cases, Challenges, Opportunities 🎤 Fabien Aufrechter (Head of Web3, Vivendi ), Sandy Carter (COO, Unstoppable Domains ) and Alexandre Mare (COO, Arianee) | Moderated by Farokh Sarmad , Rug Radio ) 🗓️12:40am - 1:10pm 📍Main Stage Workshop: Enhance Digital Product Passport Utilities with Interoperability - The Arianee Case 🎤 Maxime Vaullerin (Lead Developer, Arianee) 🗓️3:00pm - 3:35pm 📍Eiffel Stage 👀 Look out for more announcements next week! Book a meeting with us in advance: https://lnkd.in/guSVreC4 Still haven’t secured your tickets? Follow the link below and get a special discount with the code PN15 https://lnkd.in/dn8D3xHR Discover more on our digital product passport solutions: https://lnkd.in/e78re2hD 📅 Save the Date: February 23-24, 2024 📍 Location: Grand Palais Éphémère, Paris See you there!']\",\n",
       " \"['Hello everyone Today, I had the chance to be part of the NFT Paris conference where I learned a wealth of new information about blockchain and its use cases across various industries such as finance, gaming, luxury, and more. I had the privilege to engage in discussions with numerous brilliant web3 developers and CEOs from companies like Maxence Perray from  , Victor Briere from  ,  ,  ,  , and many others. These conversations provided me with deeper insights into this innovative technology and its intersection with data science, particularly in terms of transparency and tokenization on the blockchain.  ']\",\n",
       " \"['“Comment acheter les NFT de ‘Eyes of Humanity’ et en tirer profit”']\",\n",
       " \"['A guide to #Decentraland #NFTs and a snapshot of data trends.']\",\n",
       " '[\\'For a long time I imagined, this term or there was always something. Well, and now, regardless of the circumstances, I said that waiting is enough and that nothing more needs to be done for this to happen. Thus, I publicly presented my alter ego \"The Knight with the Rose\" ( https://lnkd.in/gDWS9mas ), my music group MonteCristo ( https://lnkd.in/g_p2V9KQ ), and the first NFT of my book! and combined it all into the NIGHT WITHOUT GAME event. With this, exactly what I have been doing all my life was born and made sense. Art, lecture, conversation, music... the masks have fallen, the games are gone. We are the only ones left who watch with our hearts!\\']',\n",
       " '[\"Brands can now create digital narratives where customers can actively participate, adding an immersive dimension to their marketing efforts. Imagine launching a product line where each item is accompanied by an NFT, each telling a different story of the brand\\'s heritage or the product\\'s journey. This approach not only enriches the customer experience but also fosters a deeper connection with the brand.\"]',\n",
       " \"['    ']\",\n",
       " \"['A bit more than 17 300 entries over 2 days - NFT Paris was a blast !! Particularly proud of the attendance of major companies in the luxury, sport, gaming, finance, art sector and their support this year. Even Tesla was here ! NFTs are evolving, the sector is becoming more mature - From Hype to purpose introduction keynote from Pierre-Nicolas Hurstel is the defining theme of this edition. Once hype is gone, what remains ? 1 - A brilliant community & culture. 2 - Real use cases that finally appear. Slowly, then all at once - let the consolidation do its work.']\",\n",
       " \"['A guide to Bored Ape Yacht Club #NFTs and a snapshot of data trends.']\",\n",
       " '[\\'A SaaS platform on top of the Arianee Protocol - to distribute gasless NFTs with special features and engage customers securely, anonymously and at scale!\\', \"NFTs are revolutionizing the way we think about ownership and value in the digital world in ways that are deeper and more meaningful than having a customer’s email address. But, as with any nascent technology, there\\'s a lot of complexity to navigate. That\\'s where the NFT Management Platform (NMP) comes in to make web3 more accessible to brands. In this article, we\\'ll explore why we created the NMP and the future we envision for it.  \"]',\n",
       " \"['Is this the best way to capitalize on a Web3 conference ? Some context : At the end of last year we decided with the BGA team to double down  on our effort to provide an opportunity for BGA members and Web3 Gaming enthusiasts to network and learn from each other. We want #BGAConnects to be the embodiment of this new comitment. During NFT Paris, we were very happy to see that the different verticals of BGAConnects made sense for every atendee : 🎤 Learn from the experience of those who are innovating. We were very fortunate to have Yat Siu , Nicolas Gilot among many brilliant entrepreneurs in our 5 panels. 🏆 Give an opportunity for start ups to meet potential investors 🕹 Just... Play some games and meet the visionaries who are behing. One last note : Always try to contribute to other events based on the expertise you could provide as a network of professionals in a specific ecosystem. Super happy that our members had the chance to play a role in some of the best side events of NFT Paris. See our takeaways here : https://lnkd.in/eGHhc336']\",\n",
       " '[\\'In just two days, YSL Beauté will reveal their latest NFT chapter, \"The Night Is Ours\". As we wait in anticipation, let\\\\\\'s take a trip down memory lane and check out all the fantastic drops they have previously released. Discover YSL Beauté web3 website: https://lnkd.in/g7hsT_Vq  \\']',\n",
       " '[\"What a fantastic week at NFT Paris ! 🥂 Met so many incredible people in the #Web3 space and I spent some quality time with team members I don\\'t often see face-to-face, like my CTO, Alexandre Cognard ! It was great sharing memories and talking about the progress made since I started at Arianee almost 2 years ago. Learning from him has been an incredible opportunity for me to develop my career and gain insight into other fields such as tech & management. Getting to know the ins and outs of their day-to-day work made me understand the tech team better. I gained insights into their viewpoints, strengthening mutual understanding & boosting alignment within the company. Thanks for the organization Alexandre Tsydenkov 🙌 Can\\'t wait for next year !\"]',\n",
       " '[\"Great coverage by Louise Laing of what\\'s happening in Digital Fashion from NFT Paris. User-Generated Content is taking off and The Sandbox stands as a transformative force in the digital fashion landscape. “The next big designer will emerge from a platform like The Sandbox with their customers recognising them as the next big brand.” This is validated by initiatives like the Art of Runway and collaborations with Digital Fashion Week 3D designers, known as voxel creators, can present their creations for sale in the game, gaining exposure to a different audience and garnering the opportunity to monetise from their creations whilst growing their digital community. https://lnkd.in/eHxX2UXZ @TrueStarsMedia @nft_paris @DgtlFashionWeek\"]',\n",
       " \"['📊  Fintech Focus 🔎  📢  NFTs - Are Non-Fungible Tokens The Next Big Thing  ⌛️ or Just Hype? Read my latest post  👇 to learn more and share your thoughts/experiences/ideas!        ']\"]"
      ]
     },
     "execution_count": 18,
     "metadata": {},
     "output_type": "execute_result"
    }
   ],
   "source": [
    "def clean_hastags_noise(descriptions):\n",
    "    for i in range(len(descriptions)):\n",
    "        if hashtag_at_end(descriptions[i]):\n",
    "            descriptions[i] = remove_hashtags(descriptions[i])\n",
    "        if descriptions[i] == '':\n",
    "            descriptions[i] = 'This is a neutral comment'\n",
    "\n",
    "clean_hastags_noise(descriptions)\n",
    "descriptions"
   ]
  },
  {
   "cell_type": "code",
   "execution_count": 26,
   "metadata": {},
   "outputs": [],
   "source": [
    "eliminarAcentos = lambda str: str.translate(str.maketrans(\"áàäéèëíìïòóöùúüÀÁÄÈÉËÌÍÏÒÓÖÙÚÜ\", \"aaaeeeiiiooouuuAAAEEEIIIOOOUUU\"))\n",
    "\n",
    "corpus = [] \n",
    "\n",
    "for i in descriptions:\n",
    "    item = eliminarAcentos(i)\n",
    "    # 1. Quitamos todo lo que no sea una letra:\n",
    "    item = re.sub(\"[^a-zA-Z]\", \" \", item) \n",
    "    \n",
    "    # 2.1 Quitamos espacios multiples y dejamos solo uno:\n",
    "    item = re.sub(\"[\\s]+\", \" \", item)\n",
    "\n",
    "    item = item.strip()\n",
    "\n",
    "    # 3. Separamos oraciones para obtener puras palabras\n",
    "    item = item.split()\n",
    "\n",
    "    # 4.1 Además queremos quitar palabras irrelevantes como artículos\n",
    "   \n",
    "    item = [word for word in item if word not in allstopwords]\n",
    "\n",
    "    # 5. Unir oraciones con espacios entre cada palabra\n",
    "    item = \" \".join(item)\n",
    "    \n",
    "    if item != \"\":\n",
    "        corpus.append(item)"
   ]
  },
  {
   "cell_type": "code",
   "execution_count": 27,
   "metadata": {},
   "outputs": [
    {
     "data": {
      "text/plain": [
       "['Last week I pleasure to NFT Paris by hand of Arianee Witnessing transformative power of Web NFTs in reshaping concept of ownership particularly in relation to personal data left inspired eager to delve deeper into evolving landscape of decentralized technologies The event sparked valuable insights I excited to continue navigating dynamic realm of blockchain innovations',\n",
       " 'Hello everyone Today friends Asma Ghamacha Hermes Yan NTJAM NDJENG Harold Geumtcheng Aloys Aymrick Nzooh Bryan Fozame I chance to part of NFT Paris conference thanks to school aivancity School for Technology Business Society Paris Cachan learned wealth of new information about blockchain metaverse web use cases across various industries finance gaming luxury During enI privilege to engage in discussions with numerous brilliant web developers CEOs from companies like Maxence Perray from Nomiks Victor Briere from Arianee Ubisoft Louis Vuitton many others These conversations provided with deeper insights into innovative technology intersection with data science particularly in terms of transparency tokenization on blockchain',\n",
       " 'The digital world continues to intersect with traditional art forms online trading platform Robinhood partners with Notable art to bring prominent artist Hunt Slonem work to wider audience through use of Non Fungible Tokens NFTs Sign up on website to automatically enter monthly prize raffle https lnkd in dMcKcrpf',\n",
       " 'Can wait to welcome everyone in Paris week for NFT Paris Shout to Alexandre Tsydenkov team at NFT Paris done awesome job creating curating one of relevant B B B C web events in world Arianee I present throughout week at side events panels of course main event on rd th with demos workshop This year Arianee taking different approach with new activations from taking over VIP lounge exhibiting brands building on technology from BREITLING to Panerai Moncler many showcasing tokenized digital product passports Join on stage on February rd for The opening keynote From Hype to Purpose Redefining NFTs for next billion users at CET A panel with ian rogers Chief Experience Officer Ledger Gmoney on Unleashing Potential of Digital Luxury Market at CET Our fellow team members esteemed partners also on stage Delphine Edde CMO moderating panel on Digital Product Passports for Physical Goods From Post Purchase Engagement to Circular Business Models with Eva Assayag Head of IS Organization Projects Panerai Adrian Corsin Managing Director MUGLER Michele Lo Forte Global Head of E Commerce Digital Customer Engagement BREITLING on Friday rd at CET Alexandre Mare joining Fabien Aufrechter Head of Web Vivendi Sandy Carter COO Unstoppable Domains moderated by Farokh Sarmad Rug Media to discuss Onboarding Next Billions Users into Web Use Cases Challenges Opportunities on Saturday th at CET Our Lead Developer Maxime Vaullerin host workshop on Enhance Digital Product Passport Utilities with Interoperability on Saturday th at pm CET Last least co hosting Speakers Dinner on Thursday nd lunch with Polygon Labs on rd in VIP Lounge If time go check out Musee Orsay dear friend Agoria amazing musician NFT artist opened exhibition with two extraordinary works created specifically for museum Go check out I might organizing little private tour DM interested It going to crazy week looking forward to seeing Thanks to amazing Arianee team for making happen Don hesitate to drop note interested in setting up meeting want to attend of side events need food tips for Paris Click to get full Arianee agenda https lnkd in euJePd D Save Date February Location Grand Palais Ephemere Paris',\n",
       " 'DualMint set to launch Toji NFT Japanese sake tokenized on blockchain on nd March It in collaboration with year old sake producers Daimon Brewery This partnership big deal showcases real world assets tokenization apart from existing real estate tokenization financial product tokenization Want to part of launch Read in latest newsletter This Week on RWA Insights Dive into Day by Day leverages RWAs AI to redefine insurance Get ready for DualMint Toji NFT launch on March nd Explore featured blog post on revolutionizing commodities market Don miss out on groundbreaking insights',\n",
       " 'Join Saturday February th at NFT Paris I speaking alongside Fabien Aufrechter Head of Web Vivendi Sandy Carter COO Unstoppable Domains moderated by Farokh Sarmad Rug Media to discuss Onboarding Next Billions Users into Web Use cases Challenges Opportunities Discover Arianee digital product passports unlock new circular economy Arianee also massive presence at NFT Paris full of panels workshops demo See full agenda below Save Date February Location Grand Palais Ephemere Paris NFT Paris starts in exactly one week Besides taking over VIP Lounge couple things up sleeve Catch out keynote panels workshop look out for Arianee team hint might wearing something pink especially in Builder Zone booth Check out details below save share post see next week Day February rd Opening keynote From Hype to Purpose Redefining NFTs for The Next Billion Users Pierre Nicolas Hurstel CEO Co Founder Arianee Main Stage Panel Digital Product Passports for Physical Goods From Post Purchase Engagement to Circular Business Models Eva Assayag Head of IS Organization Projects Panerai Adrian Corsin Managing Director MUGLER Michele Lo Forte Global Head of E Commerce Digital Customer Engagement BREITLING Moderated by Delphine Edde CMO Arianee pm Main Stage Panel Unleashing Potential of Digital Luxury Market ian rogers Chief Experience Officer Ledger Gmoney Pierre Nicolas CEO Co Founder Arianee Moderated by Amanda Cassatt u b u b CEO Founder Serotonin Main Stage Day February th Panel Onboarding The Next Billions Users into Web Use Cases Challenges Opportunities Fabien Aufrechter Head of Web Vivendi Sandy Carter COO Unstoppable Domains Alexandre Mare COO Arianee Moderated by Farokh Sarmad Rug Radio pm Main Stage Workshop Enhance Digital Product Passport Utilities with Interoperability The Arianee Case Maxime Vaullerin Lead Developer Arianee pm pm Eiffel Stage Look out for announcements next week Book meeting with us in advance https lnkd in guSVreC Still secured tickets Follow link below get special discount with code PN https lnkd in dn D xHR Discover on digital product passport solutions https lnkd in e hD Save Date February Location Grand Palais Ephemere Paris See',\n",
       " 'Hello everyone Today I chance to part of NFT Paris conference I learned wealth of new information about blockchain use cases across various industries finance gaming luxury I privilege to engage in discussions with numerous brilliant web developers CEOs from companies like Maxence Perray from Victor Briere from many others These conversations provided with deeper insights into innovative technology intersection with data science particularly in terms of transparency tokenization on blockchain',\n",
       " 'Comment acheter les NFT de Eyes of Humanity et en tirer profit',\n",
       " 'A guide to Decentraland NFTs snapshot of data trends',\n",
       " 'For long time I imagined term always something Well regardless of circumstances I said waiting enough nothing needs to done for to happen Thus I publicly presented alter ego The Knight with Rose https lnkd in gDWS mas music group MonteCristo https lnkd in g p V KQ first NFT of book combined into NIGHT WITHOUT GAME event With exactly I life born made sense Art lecture conversation music masks fallen games gone We ones left watch with hearts',\n",
       " 'Brands create digital narratives customers actively participate adding immersive dimension to marketing efforts Imagine launching product line item accompanied by NFT telling different story of brand heritage product journey This approach enriches customer experience also fosters deeper connection with brand',\n",
       " 'A bit entries over days NFT Paris blast Particularly proud of attendance of major companies in luxury sport gaming finance art sector support year Even Tesla NFTs evolving sector becoming mature From Hype to purpose introduction keynote from Pierre Nicolas Hurstel defining theme of edition Once hype gone remains A brilliant community culture Real use cases finally appear Slowly at let consolidation work',\n",
       " 'A guide to Bored Ape Yacht Club NFTs snapshot of data trends',\n",
       " 'A SaaS platform on top of Arianee Protocol to distribute gasless NFTs with special features engage customers securely anonymously at scale NFTs revolutionizing way think about ownership value in digital world in ways deeper meaningful customer email address But with nascent technology lot of complexity to navigate That NFT Management Platform NMP comes in to make web accessible to brands In article explore created NMP future envision for',\n",
       " 'Is best way to capitalize on Web conference Some context At end of last year decided with BGA team to double down on effort to provide opportunity for BGA members Web Gaming enthusiasts to network learn from We want BGAConnects to embodiment of new comitment During NFT Paris happy to see different verticals of BGAConnects made sense for every atendee Learn from experience of innovating We fortunate to Yat Siu Nicolas Gilot among many brilliant entrepreneurs in panels Give opportunity for start ups to meet potential investors Just Play games meet visionaries behing One last note Always try to contribute to events based on expertise could provide network of professionals in specific ecosystem Super happy members chance to play role in of best side events of NFT Paris See takeaways https lnkd in eGHhc',\n",
       " 'In two days YSL Beaute reveal latest NFT chapter The Night Is Ours As wait in anticipation let take trip down memory lane check out fantastic drops previously released Discover YSL Beaute web website https lnkd in g hsT Vq',\n",
       " 'What fantastic week at NFT Paris Met many incredible people in Web space I spent quality time with team members I often see face to face like CTO Alexandre Cognard It great sharing memories talking about progress made since I started at Arianee almost years ago Learning from incredible opportunity for to develop career gain insight into fields tech management Getting to know ins outs of day to day work made understand tech team better I gained insights into viewpoints strengthening mutual understanding boosting alignment within company Thanks for organization Alexandre Tsydenkov Can wait for next year',\n",
       " 'Great coverage by Louise Laing of happening in Digital Fashion from NFT Paris User Generated Content taking off The Sandbox stands transformative force in digital fashion landscape The next big designer emerge from platform like The Sandbox with customers recognising next big brand This validated by initiatives like Art of Runway collaborations with Digital Fashion Week D designers known voxel creators present creations for sale in game gaining exposure to different audience garnering opportunity to monetise from creations whilst growing digital community https lnkd in eHxX UXZ TrueStarsMedia nft paris DgtlFashionWeek',\n",
       " 'Fintech Focus NFTs Are Non Fungible Tokens The Next Big Thing Just Hype Read latest post to learn share thoughts experiences ideas']"
      ]
     },
     "execution_count": 27,
     "metadata": {},
     "output_type": "execute_result"
    }
   ],
   "source": [
    "corpus"
   ]
  },
  {
   "cell_type": "code",
   "execution_count": null,
   "metadata": {},
   "outputs": [],
   "source": []
  }
 ],
 "metadata": {
  "kernelspec": {
   "display_name": "Python 3",
   "language": "python",
   "name": "python3"
  },
  "language_info": {
   "codemirror_mode": {
    "name": "ipython",
    "version": 3
   },
   "file_extension": ".py",
   "mimetype": "text/x-python",
   "name": "python",
   "nbconvert_exporter": "python",
   "pygments_lexer": "ipython3",
   "version": "3.11.1"
  }
 },
 "nbformat": 4,
 "nbformat_minor": 2
}
