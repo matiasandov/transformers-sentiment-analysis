{
 "cells": [
  {
   "cell_type": "code",
   "execution_count": 69,
   "metadata": {},
   "outputs": [],
   "source": [
    "from nltk.corpus import stopwords\n",
    "import pandas as pd\n",
    "import re "
   ]
  },
  {
   "cell_type": "code",
   "execution_count": 70,
   "metadata": {},
   "outputs": [],
   "source": [
    "allstopwords = set(stopwords.words('english'))\n"
   ]
  },
  {
   "cell_type": "code",
   "execution_count": 71,
   "metadata": {},
   "outputs": [],
   "source": [
    "with open('labeledData.txt', 'r', encoding='utf-8') as file:\n",
    "    # Read each line from the file and strip newline characters\n",
    "    descriptions = [line.strip() for line in file.readlines()]"
   ]
  },
  {
   "cell_type": "code",
   "execution_count": 72,
   "metadata": {},
   "outputs": [
    {
     "data": {
      "text/plain": [
       "['\"Last week I had the pleasure to NFT Paris by the hand of Arianee . Witnessing the transformative power of Web3 and NFTs in reshaping the concept of ownership, particularly in relation to our personal data, left me inspired and eager to delve deeper into the evolving landscape of decentralized technologies. The event sparked valuable insights, and I\\'m excited to continue navigating the dynamic realm of blockchain innovations. #NFTParis #Web3 #OwnershipRevolution\",Positive',\n",
       " '\"Hello everyone Today, my friends Asma Ghamacha , Hermes Yan NTJAM NDJENG , Harold Geumtcheng , Aloys Aymrick Nzooh , Bryan Fozame and I had the chance to be part of the NFT Paris conference thanks to our school aivancity School for Technology, Business & Society Paris-Cachan where we learned a wealth of new information about blockchain, metaverse, web3 and its use cases across various industries such as finance, gaming, luxury, and more. During this enI had the privilege to engage in discussions with numerous brilliant web3 developers and CEOs from companies like Maxence Perray from Nomiks , Victor Briere from Arianee , Ubisoft , Louis Vuitton , and many others. These conversations provided me with deeper insights into this innovative technology and its intersection with data science, particularly in terms of transparency and tokenization on the blockchain. #DataScience #Blockchain\",Positive',\n",
       " '\"The digital world continues to intersect with traditional art forms as online trading platform Robinhood partners with Notable.art to bring prominent artist Hunt Slonem’s work to a wider audience through the use of Non-Fungible Tokens (NFTs) Sign up on our website to automatically enter our monthly prize raffle https://lnkd.in/dMcKcrpf #robbinhood #notableart #huntslonem #art #nfts #technology #artists #robbinhoodwallet #technology #digitalinnovation #brands #artwork #blockchaintechnology #metaverse #blockchain #futursm #web3 #userexperience #investements #fundraising #angelinvestors #venturecapitalist\",Neutral',\n",
       " '\"Can’t wait to welcome everyone in Paris this week for NFT Paris 2024! 🚀 Shout to Alexandre Tsydenkov and the team at NFT Paris who have done an awesome job creating and curating one of the most relevant B2B and B2C web3 events in the world. Arianee & I will be present throughout the week at side-events, panels and of course, the main event on the 23rd and 24th with demos and a workshop. This year, Arianee will be taking a different approach with new activations: from taking over the VIP lounge, where we will be exhibiting all the brands building on our technology… from BREITLING to Panerai , Moncler , and many more, showcasing our tokenized digital product passports. Join me on stage on February 23rd for: 1️⃣ The opening keynote “From Hype to Purpose - Redefining NFTs for the next billion users”, at 10:15am CET 2️⃣ A panel with ian rogers (Chief Experience Officer, Ledger ) and Gmoney, on “Unleashing the Potential of the Digital Luxury Market” at 11:00am CET Our fellow team members & esteemed partners will also be on stage: 3️⃣ Delphine Eddé , our CMO, will be moderating a panel on “Digital Product Passports for Physical Goods: From Post Purchase Engagement to Circular Business Models with Eva Assayag (Head of IS & Organization Projects, Panerai ), Adrian Corsin (Managing Director, MUGLER ), Michele Lo Forte (Global Head of E-Commerce and Digital Customer Engagement, BREITLING ) on Friday 23rd at 12:40am CET 4️⃣ Alexandre Mare will be joining Fabien Aufrechter (Head of Web3, Vivendi ), Sandy Carter (COO, Unstoppable Domains ), moderated by Farokh Sarmad (Rug Media) to discuss “Onboarding the Next Billions Users into Web3: Use Cases, Challenges, Opportunities” on Saturday 24th at 12:40am CET 5️⃣ Our Lead Developer Maxime Vaullerin will host a workshop on “Enhance Digital Product Passport Utilities with Interoperability” on Saturday 24th at 3:00pm CET Last but not least, we’ll be co-hosting the Speakers Dinner on Thursday, 22nd and a lunch with Polygon Labs on the 23rd in the VIP Lounge. If you have some time, go check out Musée d\\'Orsay , where my dear friend { Agoria } , an amazing musician and NFT artist, has opened an exhibition with two extraordinary works created specifically for the museum. Go check it out! I might be organizing a little private tour, so DM if you are interested ;-) It’s going to be a crazy week, looking forward to seeing you all. Thanks to the amazing Arianee team for making it happen. Don’t hesitate to drop me a note if you’re interested in setting up a meeting, want to attend any of the side events or need any food tips for Paris Click here to get the full Arianee agenda: https://lnkd.in/euJePd_D 📅 Save the Date: February 23-24, 2024 📍 Location: Grand Palais Éphémère, Paris\",Positive',\n",
       " '\"DualMint is set to launch Toji NFT, Japanese sake tokenized on the blockchain on the 2nd March,2024. It\\'s in collaboration with the 200 year old sake producers, Daimon Brewery. This partnership is a big deal because it showcases real world assets tokenization apart from the existing real estate tokenization and financial product tokenization. Want to be a part of the launch? Read more in the latest newsletter.\",Positive',\n",
       " '\"This Week on RWA Insights 🚀 📌 Dive into how Day by Day leverages RWAs and AI to redefine insurance, 📌 Get ready for DualMint\\'s Toji NFT launch on March 2nd, 2024. 📌 Explore our featured blog post on revolutionizing the commodities market. Don\\'t miss out on these groundbreaking insights! #RWAInsights #DualMint #InsuranceInnovation #realworldassets #assettokenization #NFTlaunch #TojiNFT\",Positive',\n",
       " '\"Join me Saturday, February 24th at NFT Paris where I will be speaking alongside Fabien Aufrechter (Head of Web3, Vivendi), Sandy Carter (COO, Unstoppable Domains), moderated by Farokh Sarmad (Rug Media) to discuss “Onboarding the Next Billions Users into Web3: Use cases, Challenges, Opportunities”. Discover how Arianee’s digital product passports can unlock a new circular economy. Arianee will also have a massive presence at NFT Paris, full of panels, workshops & demo. See the full agenda below 👇 📅 Save the Date: February 23-24, 2024 📍 Location: Grand Palais Éphémère, Paris\",Positive',\n",
       " '\"NFT Paris 2024 starts in exactly one week! Besides taking over the VIP Lounge, we have a couple other things up our sleeve… Catch out our keynote, panels, workshop and look out for the Arianee team (hint: we might be wearing something pink 😉), especially in the Builder Zone booth #75.. Check out the details below, save and share this post, and see you next week! Day 1: February 23rd Opening keynote: From Hype to Purpose: Redefining NFTs for The Next Billion Users 🎤 Pierre-Nicolas Hurstel (CEO & Co-Founder, Arianee) 🗓️ 10:15am - 10:30am 📍 Main Stage Panel 1 : Digital Product Passports for Physical Goods: From Post Purchase Engagement to Circular Business Models 🎤 Eva Assayag (Head of IS & Organization Projects, Panerai), Adrian Corsin (Managing Director, MUGLER ), Michele Lo Forte (Global Head of E-Commerce and Digital Customer Engagement, BREITLING ) | Moderated by Delphine Eddé (CMO, Arianee) 🗓️12:40am - 1:10pm 📍Main Stage Panel 2: 2034: Unleashing the Potential of the Digital Luxury Market 🎤 ian rogers (Chief Experience Officer, Ledger ), Gmoney and Pierre-Nicolas (CEO & Co-Founder, Arianee) | Moderated by Amanda Cassatt \\\\u200b\\\\u200b(CEO & Founder, Serotonin ) 🗓️11:00am - 11:30am 📍Main Stage Day 2: February 24th Panel 3: Onboarding The Next Billions Users into Web3: Use Cases, Challenges, Opportunities 🎤 Fabien Aufrechter (Head of Web3, Vivendi ), Sandy Carter (COO, Unstoppable Domains ) and Alexandre Mare (COO, Arianee) | Moderated by Farokh Sarmad , Rug Radio ) 🗓️12:40am - 1:10pm 📍Main Stage Workshop: Enhance Digital Product Passport Utilities with Interoperability - The Arianee Case 🎤 Maxime Vaullerin (Lead Developer, Arianee) 🗓️3:00pm - 3:35pm 📍Eiffel Stage 👀 Look out for more announcements next week! Book a meeting with us in advance: https://lnkd.in/guSVreC4 Still haven’t secured your tickets? Follow the link below and get a special discount with the code PN15 https://lnkd.in/dn8D3xHR Discover more on our digital product passport solutions: https://lnkd.in/e78re2hD 📅 Save the Date: February 23-24, 2024 📍 Location: Grand Palais Éphémère, Paris See you there!\",Positive',\n",
       " '\"Hello everyone Today, I had the chance to be part of the NFT Paris conference where I learned a wealth of new information about blockchain and its use cases across various industries such as finance, gaming, luxury, and more. I had the privilege to engage in discussions with numerous brilliant web3 developers and CEOs from companies like Maxence Perray from #Nomiks , Victor Briere from #Arianee , #Galaxy , #Ubisoft , #LouisVuitton , and many others. These conversations provided me with deeper insights into this innovative technology and its intersection with data science, particularly in terms of transparency and tokenization on the blockchain. #DataScience #Blockchain\",Positive',\n",
       " '\"Comment acheter les NFT de ‘Eyes of Humanity’ et en tirer profit”,Neutral',\n",
       " '\"A guide to #Decentraland #NFTs and a snapshot of data trends.\",Neutral',\n",
       " '\"For a long time I imagined, this term or there was always something. Well, and now, regardless of the circumstances, I said that waiting is enough and that nothing more needs to be done for this to happen. Thus, I publicly presented my alter ego \"The Knight with the Rose\" ( https://lnkd.in/gDWS9mas ), my music group MonteCristo ( https://lnkd.in/g_p2V9KQ ), and the first NFT of my book! and combined it all into the NIGHT WITHOUT GAME event. With this, exactly what I have been doing all my life was born and made sense. Art, lecture, conversation, music... the masks have fallen, the games are gone. We are the only ones left who watch with our hearts!\",Positive',\n",
       " '\"Brands can now create digital narratives where customers can actively participate, adding an immersive dimension to their marketing efforts. Imagine launching a product line where each item is accompanied by an NFT, each telling a different story of the brand\\'s heritage or the product\\'s journey. This approach not only enriches the customer experience but also fosters a deeper connection with the brand.\",Positive',\n",
       " '\"#Lugano #NFTfest #WEB3 #Crypto #Art\",Neutral',\n",
       " '\"A bit more than 17 300 entries over 2 days - NFT Paris was a blast !! Particularly proud of the attendance of major companies in the luxury, sport, gaming, finance, art sector and their support this year. Even Tesla was here ! NFTs are evolving, the sector is becoming more mature - From Hype to purpose introduction keynote from Pierre-Nicolas Hurstel is the defining theme of this edition. Once hype is gone, what remains ? 1 - A brilliant community & culture. 2 - Real use cases that finally appear. Slowly, then all at once - let the consolidation do its work.\",Positive',\n",
       " '\"A guide to Bored Ape Yacht Club #NFTs and a snapshot of data trends.\",Neutral',\n",
       " '\"A SaaS platform on top of the Arianee Protocol - to distribute gasless NFTs with special features and engage customers securely, anonymously and at scale!\",Positive',\n",
       " '\"NFTs are revolutionizing the way we think about ownership and value in the digital world in ways that are deeper and more meaningful than having a customer’s email address. But, as with any nascent technology, there\\'s a lot of complexity to navigate. That\\'s where the NFT Management Platform (NMP) comes in to make web3 more accessible to brands. In this article, we\\'ll explore why we created the NMP and the future we envision for it. #ArianeeAcademy #FeatureDigest\",Positive',\n",
       " '\"Is this the best way to capitalize on a Web3 conference ? Some context : At the end of last year we decided with the BGA team to double down on our effort to provide an opportunity for BGA members and Web3 Gaming enthusiasts to network and learn from each other. We want #BGAConnects to be the embodiment of this new comitment. During NFT Paris, we were very happy to see that the different verticals of BGAConnects made sense for every atendee : 🎤 Learn from the experience of those who are innovating. We were very fortunate to have Yat Siu , Nicolas Gilot among many brilliant entrepreneurs in our 5 panels. 🏆 Give an opportunity for start ups to meet potential investors 🕹 Just... Play some games and meet the visionaries who are behing. One last note : Always try to contribute to other events based on the expertise you could provide as a network of professionals in a specific ecosystem. Super happy that our members had the chance to play a role in some of the best side events of NFT Paris. See our takeaways here : https://lnkd.in/eGHhc336\",Positive',\n",
       " '\"In just two days, YSL Beauté will reveal their latest NFT chapter, \"The Night Is Ours\". As we wait in anticipation, let\\\\\\'s take a trip down memory lane and check out all the fantastic drops they have previously released. Discover YSL Beauté web3 website: https://lnkd.in/g7hsT_Vq #ArianeeAcademy #CaseDigest\",Positive',\n",
       " '\"What a fantastic week at NFT Paris ! 🥂 Met so many incredible people in the #Web3 space and I spent some quality time with team members I don\\'t often see face-to-face, like my CTO, Alexandre Cognard ! It was great sharing memories and talking about the progress made since I started at Arianee almost 2 years ago. Learning from him has been an incredible opportunity for me to develop my career and gain insight into other fields such as tech & management. Getting to know the ins and outs of their day-to-day work made me understand the tech team better. I gained insights into their viewpoints, strengthening mutual understanding & boosting alignment within the company. Thanks for the organization Alexandre Tsydenkov 🙌 Can\\'t wait for next year !\",Positive',\n",
       " '\"Great coverage by Louise Laing of what\\'s happening in Digital Fashion from NFT Paris. User-Generated Content is taking off and The Sandbox stands as a transformative force in the digital fashion landscape. “The next big designer will emerge from a platform like The Sandbox with their customers recognising them as the next big brand.” This is validated by initiatives like the Art of Runway and collaborations with Digital Fashion Week 3D designers, known as voxel creators, can present their creations for sale in the game, gaining exposure to a different audience and garnering the opportunity to monetise from their creations whilst growing their digital community. https://lnkd.in/eHxX2UXZ @TrueStarsMedia @nft_paris @DgtlFashionWeek\",Positive',\n",
       " '\"📊 Fintech Focus 🔎 📢 NFTs - Are Non-Fungible Tokens The Next Big Thing ⌛️ or Just Hype? Read my latest post 👇 to learn more and share your thoughts/experiences/ideas! #fintech #friday #nfts #nftcommunity #blockchain #cryptocurrency #cryptoexchange #art\",Negative',\n",
       " '\"Attended the Web3 Summit and was blown away by the innovative NFT solutions being discussed. The future of digital ownership looks bright! #Web3 #NFTs #Innovation\",Positive',\n",
       " '\"Thrilled to announce our partnership with a leading blockchain firm to bring new NFT solutions to the market. Exciting times ahead! #Partnership #Blockchain #NFTs\",Positive',\n",
       " '\"Just minted my first NFT and the process was seamless. Kudos to the team for making blockchain accessible! #Blockchain #NFT #FirstNFT\",Positive',\n",
       " '\"The potential of NFTs in the gaming industry is astounding. Can\\'t wait to see what the future holds! #NFTs #Gaming #Innovation\",Positive',\n",
       " '\"Web3 and NFTs are reshaping the art world, providing artists with new avenues to showcase and sell their work. #Art #NFTs #Web3\",Positive',\n",
       " '\"Incredibly inspired by the discussions at the NFT Expo. The potential applications of this technology are limitless! #NFTExpo #Blockchain #FutureTech\",Positive',\n",
       " '\"So proud to see our NFT project getting recognition at major blockchain events. Hard work pays off! #NFTProject #Blockchain #Recognition\",Positive',\n",
       " '\"Just attended an amazing workshop on NFTs and their impact on the real estate market. Exciting developments ahead! #NFTs #RealEstate #Innovation\",Positive',\n",
       " '\"The collaboration between luxury brands and NFTs is creating unique and valuable digital experiences. #Luxury #NFTs #DigitalExperience\",Positive',\n",
       " '\"Witnessed the launch of an innovative NFT platform today. The technology and creativity in this space are truly inspiring. #NFTLaunch #Innovation #Tech\",Positive',\n",
       " '\"Despite the hype, I\\'m seeing a lot of NFT projects with no real value. Caution is advised before investing. #NFTs #Investment #Caution\",Negative',\n",
       " '\"The environmental impact of NFTs remains a significant concern. More sustainable solutions are needed. #NFTs #Environment #Sustainability\",Negative',\n",
       " '\"The NFT market is flooded with scams and low-quality projects. It\\'s becoming harder to find legitimate opportunities. #NFTs #Scams #Quality\",Negative',\n",
       " '\"Many artists are finding it difficult to navigate the complexities of NFT platforms. More user-friendly solutions are needed. #NFTs #Artists #UserExperience\",Negative',\n",
       " '\"The volatility in the NFT market is alarming. Investors need to be very careful. #NFTs #Volatility #Investment\",Negative',\n",
       " '\"Seeing too many projects that are just cash grabs with no real innovation. The NFT space needs to mature. #NFTs #Innovation #Maturity\",Negative',\n",
       " '\"Issues with copyright and intellectual property rights in the NFT space are becoming more prevalent. This needs to be addressed. #NFTs #Copyright #IP\",Negative',\n",
       " '\"The initial excitement around NFTs seems to be fading as more people realize the limitations of current platforms. #NFTs #Hype #RealityCheck\",Negative',\n",
       " '\"Transaction fees on NFT platforms are still too high, making it difficult for small artists to participate. #NFTs #Fees #Accessibility\",Negative',\n",
       " '\"The NFT market\\'s lack of regulation is a double-edged sword. It offers freedom but also attracts bad actors. #NFTs #Regulation #Security\",Negative',\n",
       " '\"Exploring the latest trends in the NFT market. It\\'s fascinating to see how this space is evolving. #NFTs #Trends #Blockchain\",Neutral',\n",
       " '\"A new report on the impact of NFTs in the entertainment industry has just been released. Worth a read! #NFTs #Entertainment #Report\",Neutral',\n",
       " '\"NFTs continue to be a hot topic in the tech world. Looking forward to seeing more innovative uses. #NFTs #Tech #Innovation\",Neutral',\n",
       " '\"Attended a webinar on Web3 and NFTs. Interesting insights on the future of digital assets. #Web3 #NFTs #Webinar\",Neutral',\n",
       " '\"The rise of NFTs in sports is gaining momentum. New ways to engage fans are being explored. #NFTs #Sports #FanEngagement\",Neutral',\n",
       " '\"NFT marketplaces are evolving, offering more features and better user experiences. #NFTs #Marketplaces #UserExperience\",Neutral',\n",
       " '\"Reading about the legal implications of NFTs and how they might affect the industry. Important considerations ahead. #NFTs #Legal #Industry\",Neutral',\n",
       " '\"A detailed analysis of the current state of NFTs in the art world. Both challenges and opportunities ahead. #NFTs #Art #Analysis\",Neutral',\n",
       " '\"NFTs are starting to be used in new and unexpected ways. Keeping an eye on these developments. #NFTs #Innovation #Future\",Neutral',\n",
       " '\"The debate around the future of NFTs continues. Different perspectives make for a healthy discussion. #NFTs #Debate #Future\",Neutral',\n",
       " '']"
      ]
     },
     "execution_count": 72,
     "metadata": {},
     "output_type": "execute_result"
    }
   ],
   "source": [
    "descriptions = descriptions[1:]\n",
    "descriptions"
   ]
  },
  {
   "cell_type": "code",
   "execution_count": 73,
   "metadata": {},
   "outputs": [],
   "source": [
    "from nltk.stem.wordnet import WordNetLemmatizer\n",
    "lemmatizer = WordNetLemmatizer()\n",
    "eliminarAcentos = lambda str: str.translate(str.maketrans(\"áàäéèëíìïòóöùúüÀÁÄÈÉËÌÍÏÒÓÖÙÚÜ\", \"aaaeeeiiiooouuuAAAEEEIIIOOOUUU\"))\n",
    "\n",
    "corpus = [] \n",
    "labels = []\n",
    "for i in descriptions:\n",
    "    item = eliminarAcentos(i)\n",
    "    item = item.lower()\n",
    "    # 1. Quitamos todo lo que no sea una letra:\n",
    "    item = re.sub(\"[^a-zA-Z]\", \" \", item) \n",
    "    \n",
    "    # 2.1 Quitamos espacios multiples y dejamos solo uno:\n",
    "    item = re.sub(\"[\\s]+\", \" \", item)\n",
    "\n",
    "    item = item.strip()\n",
    "\n",
    "    # 3. Separamos oraciones para obtener puras palabras\n",
    "    item = item.split()\n",
    "    \n",
    "    if len(item)> 1:\n",
    "        labels.append(item[-1])\n",
    "    \n",
    "    item = item[0:len(item)-1]\n",
    "\n",
    "    # 4.1 Además queremos quitar palabras irrelevantes como artículos\n",
    "   \n",
    "    item = [word for word in item if word not in allstopwords]\n",
    "    \n",
    "\n",
    "    # 4.2 Unimos el Stemmer/Lematization para cada palabra que no esté dentro de la lista de stopwords\n",
    "    \n",
    "    item = [lemmatizer.lemmatize(word) for word in item ]\n",
    "    \n",
    "    \n",
    "\n",
    "    # 5. Unir oraciones con espacios entre cada palabra\n",
    "    item = \" \".join(item)\n",
    "    \n",
    "    if item != \"\":\n",
    "        corpus.append(item)"
   ]
  },
  {
   "cell_type": "code",
   "execution_count": 74,
   "metadata": {},
   "outputs": [
    {
     "data": {
      "text/plain": [
       "['last week pleasure nft paris hand arianee witnessing transformative power web nfts reshaping concept ownership particularly relation personal data left inspired eager delve deeper evolving landscape decentralized technology event sparked valuable insight excited continue navigating dynamic realm blockchain innovation nftparis web ownershiprevolution',\n",
       " 'hello everyone today friend asma ghamacha hermes yan ntjam ndjeng harold geumtcheng aloys aymrick nzooh bryan fozame chance part nft paris conference thanks school aivancity school technology business society paris cachan learned wealth new information blockchain metaverse web use case across various industry finance gaming luxury eni privilege engage discussion numerous brilliant web developer ceo company like maxence perray nomiks victor briere arianee ubisoft louis vuitton many others conversation provided deeper insight innovative technology intersection data science particularly term transparency tokenization blockchain datascience blockchain',\n",
       " 'digital world continues intersect traditional art form online trading platform robinhood partner notable art bring prominent artist hunt slonem work wider audience use non fungible token nfts sign website automatically enter monthly prize raffle http lnkd dmckcrpf robbinhood notableart huntslonem art nfts technology artist robbinhoodwallet technology digitalinnovation brand artwork blockchaintechnology metaverse blockchain futursm web userexperience investements fundraising angelinvestors venturecapitalist',\n",
       " 'wait welcome everyone paris week nft paris shout alexandre tsydenkov team nft paris done awesome job creating curating one relevant b b b c web event world arianee present throughout week side event panel course main event rd th demo workshop year arianee taking different approach new activation taking vip lounge exhibiting brand building technology breitling panerai moncler many showcasing tokenized digital product passport join stage february rd opening keynote hype purpose redefining nfts next billion user cet panel ian rogers chief experience officer ledger gmoney unleashing potential digital luxury market cet fellow team member esteemed partner also stage delphine edde cmo moderating panel digital product passport physical good post purchase engagement circular business model eva assayag head organization project panerai adrian corsin managing director mugler michele lo forte global head e commerce digital customer engagement breitling friday rd cet alexandre mare joining fabien aufrechter head web vivendi sandy carter coo unstoppable domain moderated farokh sarmad rug medium discus onboarding next billion user web use case challenge opportunity saturday th cet lead developer maxime vaullerin host workshop enhance digital product passport utility interoperability saturday th pm cet last least co hosting speaker dinner thursday nd lunch polygon lab rd vip lounge time go check musee orsay dear friend agoria amazing musician nft artist opened exhibition two extraordinary work created specifically museum go check might organizing little private tour dm interested going crazy week looking forward seeing thanks amazing arianee team making happen hesitate drop note interested setting meeting want attend side event need food tip paris click get full arianee agenda http lnkd eujepd save date february location grand palais ephemere paris',\n",
       " 'dualmint set launch toji nft japanese sake tokenized blockchain nd march collaboration year old sake producer daimon brewery partnership big deal showcase real world asset tokenization apart existing real estate tokenization financial product tokenization want part launch read latest newsletter',\n",
       " 'week rwa insight dive day day leverage rwas ai redefine insurance get ready dualmint toji nft launch march nd explore featured blog post revolutionizing commodity market miss groundbreaking insight rwainsights dualmint insuranceinnovation realworldassets assettokenization nftlaunch tojinft',\n",
       " 'join saturday february th nft paris speaking alongside fabien aufrechter head web vivendi sandy carter coo unstoppable domain moderated farokh sarmad rug medium discus onboarding next billion user web use case challenge opportunity discover arianee digital product passport unlock new circular economy arianee also massive presence nft paris full panel workshop demo see full agenda save date february location grand palais ephemere paris',\n",
       " 'nft paris start exactly one week besides taking vip lounge couple thing sleeve catch keynote panel workshop look arianee team hint might wearing something pink especially builder zone booth check detail save share post see next week day february rd opening keynote hype purpose redefining nfts next billion user pierre nicolas hurstel ceo co founder arianee main stage panel digital product passport physical good post purchase engagement circular business model eva assayag head organization project panerai adrian corsin managing director mugler michele lo forte global head e commerce digital customer engagement breitling moderated delphine edde cmo arianee pm main stage panel unleashing potential digital luxury market ian rogers chief experience officer ledger gmoney pierre nicolas ceo co founder arianee moderated amanda cassatt u b u b ceo founder serotonin main stage day february th panel onboarding next billion user web use case challenge opportunity fabien aufrechter head web vivendi sandy carter coo unstoppable domain alexandre mare coo arianee moderated farokh sarmad rug radio pm main stage workshop enhance digital product passport utility interoperability arianee case maxime vaullerin lead developer arianee pm pm eiffel stage look announcement next week book meeting u advance http lnkd gusvrec still secured ticket follow link get special discount code pn http lnkd dn xhr discover digital product passport solution http lnkd e hd save date february location grand palais ephemere paris see',\n",
       " 'hello everyone today chance part nft paris conference learned wealth new information blockchain use case across various industry finance gaming luxury privilege engage discussion numerous brilliant web developer ceo company like maxence perray nomiks victor briere arianee galaxy ubisoft louisvuitton many others conversation provided deeper insight innovative technology intersection data science particularly term transparency tokenization blockchain datascience blockchain',\n",
       " 'comment acheter le nft de eye humanity et en tirer profit',\n",
       " 'guide decentraland nfts snapshot data trend',\n",
       " 'long time imagined term always something well regardless circumstance said waiting enough nothing need done happen thus publicly presented alter ego knight rose http lnkd gdws ma music group montecristo http lnkd g p v kq first nft book combined night without game event exactly life born made sense art lecture conversation music mask fallen game gone one left watch heart',\n",
       " 'brand create digital narrative customer actively participate adding immersive dimension marketing effort imagine launching product line item accompanied nft telling different story brand heritage product journey approach enriches customer experience also foster deeper connection brand',\n",
       " 'lugano nftfest web crypto art',\n",
       " 'bit entry day nft paris blast particularly proud attendance major company luxury sport gaming finance art sector support year even tesla nfts evolving sector becoming mature hype purpose introduction keynote pierre nicolas hurstel defining theme edition hype gone remains brilliant community culture real use case finally appear slowly let consolidation work',\n",
       " 'guide bored ape yacht club nfts snapshot data trend',\n",
       " 'saas platform top arianee protocol distribute gasless nfts special feature engage customer securely anonymously scale',\n",
       " 'nfts revolutionizing way think ownership value digital world way deeper meaningful customer email address nascent technology lot complexity navigate nft management platform nmp come make web accessible brand article explore created nmp future envision arianeeacademy featuredigest',\n",
       " 'best way capitalize web conference context end last year decided bga team double effort provide opportunity bga member web gaming enthusiast network learn want bgaconnects embodiment new comitment nft paris happy see different vertical bgaconnects made sense every atendee learn experience innovating fortunate yat siu nicolas gilot among many brilliant entrepreneur panel give opportunity start ups meet potential investor play game meet visionary behing one last note always try contribute event based expertise could provide network professional specific ecosystem super happy member chance play role best side event nft paris see takeaway http lnkd eghhc',\n",
       " 'two day ysl beaute reveal latest nft chapter night wait anticipation let take trip memory lane check fantastic drop previously released discover ysl beaute web website http lnkd g hst vq arianeeacademy casedigest',\n",
       " 'fantastic week nft paris met many incredible people web space spent quality time team member often see face face like cto alexandre cognard great sharing memory talking progress made since started arianee almost year ago learning incredible opportunity develop career gain insight field tech management getting know in out day day work made understand tech team better gained insight viewpoint strengthening mutual understanding boosting alignment within company thanks organization alexandre tsydenkov wait next year',\n",
       " 'great coverage louise laing happening digital fashion nft paris user generated content taking sandbox stand transformative force digital fashion landscape next big designer emerge platform like sandbox customer recognising next big brand validated initiative like art runway collaboration digital fashion week designer known voxel creator present creation sale game gaining exposure different audience garnering opportunity monetise creation whilst growing digital community http lnkd ehxx uxz truestarsmedia nft paris dgtlfashionweek',\n",
       " 'fintech focus nfts non fungible token next big thing hype read latest post learn share thought experience idea fintech friday nfts nftcommunity blockchain cryptocurrency cryptoexchange art',\n",
       " 'attended web summit blown away innovative nft solution discussed future digital ownership look bright web nfts innovation',\n",
       " 'thrilled announce partnership leading blockchain firm bring new nft solution market exciting time ahead partnership blockchain nfts',\n",
       " 'minted first nft process seamless kudos team making blockchain accessible blockchain nft firstnft',\n",
       " 'potential nfts gaming industry astounding wait see future hold nfts gaming innovation',\n",
       " 'web nfts reshaping art world providing artist new avenue showcase sell work art nfts web',\n",
       " 'incredibly inspired discussion nft expo potential application technology limitless nftexpo blockchain futuretech',\n",
       " 'proud see nft project getting recognition major blockchain event hard work pay nftproject blockchain recognition',\n",
       " 'attended amazing workshop nfts impact real estate market exciting development ahead nfts realestate innovation',\n",
       " 'collaboration luxury brand nfts creating unique valuable digital experience luxury nfts digitalexperience',\n",
       " 'witnessed launch innovative nft platform today technology creativity space truly inspiring nftlaunch innovation tech',\n",
       " 'despite hype seeing lot nft project real value caution advised investing nfts investment caution',\n",
       " 'environmental impact nfts remains significant concern sustainable solution needed nfts environment sustainability',\n",
       " 'nft market flooded scam low quality project becoming harder find legitimate opportunity nfts scam quality',\n",
       " 'many artist finding difficult navigate complexity nft platform user friendly solution needed nfts artist userexperience',\n",
       " 'volatility nft market alarming investor need careful nfts volatility investment',\n",
       " 'seeing many project cash grab real innovation nft space need mature nfts innovation maturity',\n",
       " 'issue copyright intellectual property right nft space becoming prevalent need addressed nfts copyright ip',\n",
       " 'initial excitement around nfts seems fading people realize limitation current platform nfts hype realitycheck',\n",
       " 'transaction fee nft platform still high making difficult small artist participate nfts fee accessibility',\n",
       " 'nft market lack regulation double edged sword offer freedom also attracts bad actor nfts regulation security',\n",
       " 'exploring latest trend nft market fascinating see space evolving nfts trend blockchain',\n",
       " 'new report impact nfts entertainment industry released worth read nfts entertainment report',\n",
       " 'nfts continue hot topic tech world looking forward seeing innovative us nfts tech innovation',\n",
       " 'attended webinar web nfts interesting insight future digital asset web nfts webinar',\n",
       " 'rise nfts sport gaining momentum new way engage fan explored nfts sport fanengagement',\n",
       " 'nft marketplace evolving offering feature better user experience nfts marketplace userexperience',\n",
       " 'reading legal implication nfts might affect industry important consideration ahead nfts legal industry',\n",
       " 'detailed analysis current state nfts art world challenge opportunity ahead nfts art analysis',\n",
       " 'nfts starting used new unexpected way keeping eye development nfts innovation future',\n",
       " 'debate around future nfts continues different perspective make healthy discussion nfts debate future']"
      ]
     },
     "execution_count": 74,
     "metadata": {},
     "output_type": "execute_result"
    }
   ],
   "source": [
    "corpus"
   ]
  },
  {
   "cell_type": "code",
   "execution_count": 75,
   "metadata": {},
   "outputs": [
    {
     "data": {
      "text/plain": [
       "['positive',\n",
       " 'positive',\n",
       " 'neutral',\n",
       " 'positive',\n",
       " 'positive',\n",
       " 'positive',\n",
       " 'positive',\n",
       " 'positive',\n",
       " 'positive',\n",
       " 'neutral',\n",
       " 'neutral',\n",
       " 'positive',\n",
       " 'positive',\n",
       " 'neutral',\n",
       " 'positive',\n",
       " 'neutral',\n",
       " 'positive',\n",
       " 'positive',\n",
       " 'positive',\n",
       " 'positive',\n",
       " 'positive',\n",
       " 'positive',\n",
       " 'negative',\n",
       " 'positive',\n",
       " 'positive',\n",
       " 'positive',\n",
       " 'positive',\n",
       " 'positive',\n",
       " 'positive',\n",
       " 'positive',\n",
       " 'positive',\n",
       " 'positive',\n",
       " 'positive',\n",
       " 'negative',\n",
       " 'negative',\n",
       " 'negative',\n",
       " 'negative',\n",
       " 'negative',\n",
       " 'negative',\n",
       " 'negative',\n",
       " 'negative',\n",
       " 'negative',\n",
       " 'negative',\n",
       " 'neutral',\n",
       " 'neutral',\n",
       " 'neutral',\n",
       " 'neutral',\n",
       " 'neutral',\n",
       " 'neutral',\n",
       " 'neutral',\n",
       " 'neutral',\n",
       " 'neutral',\n",
       " 'neutral']"
      ]
     },
     "execution_count": 75,
     "metadata": {},
     "output_type": "execute_result"
    }
   ],
   "source": [
    "labels"
   ]
  },
  {
   "cell_type": "markdown",
   "metadata": {},
   "source": [
    "# Data augmentation\n",
    "I am going to generate new data for neutral and negative labels, in order to have a more balanced set and to have more data in general. Sinc the crawler is very small and sometimes it makes me lose data."
   ]
  },
  {
   "cell_type": "code",
   "execution_count": 76,
   "metadata": {},
   "outputs": [
    {
     "name": "stderr",
     "output_type": "stream",
     "text": [
      "[nltk_data] Downloading package averaged_perceptron_tagger to\n",
      "[nltk_data]     C:\\Users\\matts\\AppData\\Roaming\\nltk_data...\n",
      "[nltk_data]   Package averaged_perceptron_tagger is already up-to-\n",
      "[nltk_data]       date!\n",
      "[nltk_data] Downloading package punkt to\n",
      "[nltk_data]     C:\\Users\\matts\\AppData\\Roaming\\nltk_data...\n",
      "[nltk_data]   Package punkt is already up-to-date!\n"
     ]
    },
    {
     "data": {
      "text/plain": [
       "True"
      ]
     },
     "execution_count": 76,
     "metadata": {},
     "output_type": "execute_result"
    }
   ],
   "source": [
    "import nltk\n",
    "from nltk.corpus import wordnet\n",
    "import random\n",
    "nltk.download('averaged_perceptron_tagger')\n",
    "nltk.download('punkt')"
   ]
  },
  {
   "cell_type": "code",
   "execution_count": 77,
   "metadata": {},
   "outputs": [
    {
     "data": {
      "text/plain": [
       "'ane Master of Arts exceedingly exahusted nowadays'"
      ]
     },
     "execution_count": 77,
     "metadata": {},
     "output_type": "execute_result"
    }
   ],
   "source": [
    "def get_synonyms(word):\n",
    "    synonyms = []\n",
    "    for syn in wordnet.synsets(word):\n",
    "        for lemma in syn.lemmas():\n",
    "            synonyms.append(lemma.name())\n",
    "    return set(synonyms)\n",
    "\n",
    "\n",
    "\n",
    "def synonym_replacement(sentence, n):\n",
    "    words = nltk.word_tokenize(sentence)\n",
    "    new_words = words.copy()\n",
    "    random_word_list = list(set([word for word in words if wordnet.synsets(word)]))\n",
    "    random.shuffle(random_word_list)\n",
    "    \n",
    "    num_replaced = 0\n",
    "    for random_word in random_word_list:\n",
    "        synonyms = get_synonyms(random_word)\n",
    "        if len(synonyms) >= 1:\n",
    "            synonym = random.choice(list(synonyms))\n",
    "            new_words = [synonym if word == random_word else word for word in new_words]\n",
    "            num_replaced += 1\n",
    "        if num_replaced >= n:  # replace up to n words\n",
    "            break\n",
    "\n",
    "    sentence = ' '.join(new_words)\n",
    "    sentence = re.sub(\"[^a-zA-Z]\", \" \", sentence) \n",
    "    return sentence\n",
    "\n",
    "synonym_replacement(\"I am extremely exahusted today\", len(\"i am extemely exahusted today\")/2)"
   ]
  },
  {
   "cell_type": "code",
   "execution_count": 78,
   "metadata": {},
   "outputs": [
    {
     "name": "stdout",
     "output_type": "stream",
     "text": [
      "53 53\n"
     ]
    }
   ],
   "source": [
    "print(len(labels), len(corpus))"
   ]
  },
  {
   "cell_type": "code",
   "execution_count": 79,
   "metadata": {},
   "outputs": [],
   "source": [
    "newData = []\n",
    "newLabels = []\n",
    "for i in range(2):\n",
    "    for i in range(len(corpus)):\n",
    "        sen = corpus[i]\n",
    "        sen = synonym_replacement(sen, len(sen)//2 )\n",
    "        newData.append(sen)\n",
    "        newLabels.append(labels[i])"
   ]
  },
  {
   "cell_type": "code",
   "execution_count": 80,
   "metadata": {},
   "outputs": [
    {
     "name": "stdout",
     "output_type": "stream",
     "text": [
      "159 159\n"
     ]
    }
   ],
   "source": [
    "corpus = corpus+newData\n",
    "labels = labels+newLabels\n",
    "print(len(labels), len(corpus))"
   ]
  },
  {
   "cell_type": "code",
   "execution_count": 88,
   "metadata": {},
   "outputs": [
    {
     "data": {
      "text/html": [
       "<div>\n",
       "<style scoped>\n",
       "    .dataframe tbody tr th:only-of-type {\n",
       "        vertical-align: middle;\n",
       "    }\n",
       "\n",
       "    .dataframe tbody tr th {\n",
       "        vertical-align: top;\n",
       "    }\n",
       "\n",
       "    .dataframe thead th {\n",
       "        text-align: right;\n",
       "    }\n",
       "</style>\n",
       "<table border=\"1\" class=\"dataframe\">\n",
       "  <thead>\n",
       "    <tr style=\"text-align: right;\">\n",
       "      <th></th>\n",
       "      <th>text</th>\n",
       "      <th>tone</th>\n",
       "    </tr>\n",
       "  </thead>\n",
       "  <tbody>\n",
       "    <tr>\n",
       "      <th>0</th>\n",
       "      <td>last week pleasure nft paris hand arianee witn...</td>\n",
       "      <td>positive</td>\n",
       "    </tr>\n",
       "    <tr>\n",
       "      <th>1</th>\n",
       "      <td>hello everyone today friend asma ghamacha herm...</td>\n",
       "      <td>positive</td>\n",
       "    </tr>\n",
       "    <tr>\n",
       "      <th>2</th>\n",
       "      <td>digital world continues intersect traditional ...</td>\n",
       "      <td>neutral</td>\n",
       "    </tr>\n",
       "    <tr>\n",
       "      <th>3</th>\n",
       "      <td>wait welcome everyone paris week nft paris sho...</td>\n",
       "      <td>positive</td>\n",
       "    </tr>\n",
       "    <tr>\n",
       "      <th>4</th>\n",
       "      <td>dualmint set launch toji nft japanese sake tok...</td>\n",
       "      <td>positive</td>\n",
       "    </tr>\n",
       "    <tr>\n",
       "      <th>...</th>\n",
       "      <td>...</td>\n",
       "      <td>...</td>\n",
       "    </tr>\n",
       "    <tr>\n",
       "      <th>154</th>\n",
       "      <td>nft marketplace evolve provide lineament just ...</td>\n",
       "      <td>neutral</td>\n",
       "    </tr>\n",
       "    <tr>\n",
       "      <th>155</th>\n",
       "      <td>interpretation sound deduction nfts mightiness...</td>\n",
       "      <td>neutral</td>\n",
       "    </tr>\n",
       "    <tr>\n",
       "      <th>156</th>\n",
       "      <td>detailed analysis flow land nfts graphics eart...</td>\n",
       "      <td>neutral</td>\n",
       "    </tr>\n",
       "    <tr>\n",
       "      <th>157</th>\n",
       "      <td>nfts take up apply raw unexpected manner keepi...</td>\n",
       "      <td>neutral</td>\n",
       "    </tr>\n",
       "    <tr>\n",
       "      <th>158</th>\n",
       "      <td>fence around hereafter nfts carry on unlike li...</td>\n",
       "      <td>neutral</td>\n",
       "    </tr>\n",
       "  </tbody>\n",
       "</table>\n",
       "<p>159 rows × 2 columns</p>\n",
       "</div>"
      ],
      "text/plain": [
       "                                                  text      tone\n",
       "0    last week pleasure nft paris hand arianee witn...  positive\n",
       "1    hello everyone today friend asma ghamacha herm...  positive\n",
       "2    digital world continues intersect traditional ...   neutral\n",
       "3    wait welcome everyone paris week nft paris sho...  positive\n",
       "4    dualmint set launch toji nft japanese sake tok...  positive\n",
       "..                                                 ...       ...\n",
       "154  nft marketplace evolve provide lineament just ...   neutral\n",
       "155  interpretation sound deduction nfts mightiness...   neutral\n",
       "156  detailed analysis flow land nfts graphics eart...   neutral\n",
       "157  nfts take up apply raw unexpected manner keepi...   neutral\n",
       "158  fence around hereafter nfts carry on unlike li...   neutral\n",
       "\n",
       "[159 rows x 2 columns]"
      ]
     },
     "execution_count": 88,
     "metadata": {},
     "output_type": "execute_result"
    }
   ],
   "source": [
    "df = pd.DataFrame(\n",
    "    {'text': corpus,\n",
    "    'tone': labels}\n",
    ")\n",
    "df"
   ]
  },
  {
   "cell_type": "code",
   "execution_count": 89,
   "metadata": {},
   "outputs": [
    {
     "data": {
      "text/html": [
       "<div>\n",
       "<style scoped>\n",
       "    .dataframe tbody tr th:only-of-type {\n",
       "        vertical-align: middle;\n",
       "    }\n",
       "\n",
       "    .dataframe tbody tr th {\n",
       "        vertical-align: top;\n",
       "    }\n",
       "\n",
       "    .dataframe thead th {\n",
       "        text-align: right;\n",
       "    }\n",
       "</style>\n",
       "<table border=\"1\" class=\"dataframe\">\n",
       "  <thead>\n",
       "    <tr style=\"text-align: right;\">\n",
       "      <th></th>\n",
       "      <th>text</th>\n",
       "      <th>tone</th>\n",
       "    </tr>\n",
       "  </thead>\n",
       "  <tbody>\n",
       "    <tr>\n",
       "      <th>0</th>\n",
       "      <td>last week pleasure nft paris hand arianee witn...</td>\n",
       "      <td>2</td>\n",
       "    </tr>\n",
       "    <tr>\n",
       "      <th>1</th>\n",
       "      <td>hello everyone today friend asma ghamacha herm...</td>\n",
       "      <td>2</td>\n",
       "    </tr>\n",
       "    <tr>\n",
       "      <th>2</th>\n",
       "      <td>digital world continues intersect traditional ...</td>\n",
       "      <td>1</td>\n",
       "    </tr>\n",
       "    <tr>\n",
       "      <th>3</th>\n",
       "      <td>wait welcome everyone paris week nft paris sho...</td>\n",
       "      <td>2</td>\n",
       "    </tr>\n",
       "    <tr>\n",
       "      <th>4</th>\n",
       "      <td>dualmint set launch toji nft japanese sake tok...</td>\n",
       "      <td>2</td>\n",
       "    </tr>\n",
       "    <tr>\n",
       "      <th>...</th>\n",
       "      <td>...</td>\n",
       "      <td>...</td>\n",
       "    </tr>\n",
       "    <tr>\n",
       "      <th>154</th>\n",
       "      <td>nft marketplace evolve provide lineament just ...</td>\n",
       "      <td>1</td>\n",
       "    </tr>\n",
       "    <tr>\n",
       "      <th>155</th>\n",
       "      <td>interpretation sound deduction nfts mightiness...</td>\n",
       "      <td>1</td>\n",
       "    </tr>\n",
       "    <tr>\n",
       "      <th>156</th>\n",
       "      <td>detailed analysis flow land nfts graphics eart...</td>\n",
       "      <td>1</td>\n",
       "    </tr>\n",
       "    <tr>\n",
       "      <th>157</th>\n",
       "      <td>nfts take up apply raw unexpected manner keepi...</td>\n",
       "      <td>1</td>\n",
       "    </tr>\n",
       "    <tr>\n",
       "      <th>158</th>\n",
       "      <td>fence around hereafter nfts carry on unlike li...</td>\n",
       "      <td>1</td>\n",
       "    </tr>\n",
       "  </tbody>\n",
       "</table>\n",
       "<p>159 rows × 2 columns</p>\n",
       "</div>"
      ],
      "text/plain": [
       "                                                  text  tone\n",
       "0    last week pleasure nft paris hand arianee witn...     2\n",
       "1    hello everyone today friend asma ghamacha herm...     2\n",
       "2    digital world continues intersect traditional ...     1\n",
       "3    wait welcome everyone paris week nft paris sho...     2\n",
       "4    dualmint set launch toji nft japanese sake tok...     2\n",
       "..                                                 ...   ...\n",
       "154  nft marketplace evolve provide lineament just ...     1\n",
       "155  interpretation sound deduction nfts mightiness...     1\n",
       "156  detailed analysis flow land nfts graphics eart...     1\n",
       "157  nfts take up apply raw unexpected manner keepi...     1\n",
       "158  fence around hereafter nfts carry on unlike li...     1\n",
       "\n",
       "[159 rows x 2 columns]"
      ]
     },
     "execution_count": 89,
     "metadata": {},
     "output_type": "execute_result"
    }
   ],
   "source": [
    "from sklearn.preprocessing import LabelEncoder\n",
    "enc = LabelEncoder()\n",
    "df['tone'] = enc.fit_transform(df['tone'])\n",
    "df"
   ]
  },
  {
   "cell_type": "code",
   "execution_count": 90,
   "metadata": {},
   "outputs": [
    {
     "data": {
      "text/plain": [
       "2    81\n",
       "1    45\n",
       "0    33\n",
       "Name: tone, dtype: int64"
      ]
     },
     "execution_count": 90,
     "metadata": {},
     "output_type": "execute_result"
    }
   ],
   "source": [
    "df['tone'].value_counts()"
   ]
  },
  {
   "cell_type": "markdown",
   "metadata": {},
   "source": [
    "# Prepare data for the model"
   ]
  },
  {
   "cell_type": "code",
   "execution_count": 95,
   "metadata": {},
   "outputs": [],
   "source": [
    "from sklearn.model_selection import train_test_split\n",
    "X_train, X_test, y_train, y_test = train_test_split(df.text, df.tone, test_size=0.2, random_state=42)"
   ]
  },
  {
   "cell_type": "code",
   "execution_count": 96,
   "metadata": {},
   "outputs": [],
   "source": [
    "from sklearn.feature_extraction.text import TfidfVectorizer\n",
    "import numpy as np\n",
    "vectorizer = TfidfVectorizer()\n",
    "transformed_X_train = vectorizer.fit_transform(X_train)\n",
    "transformed_X_train = transformed_X_train.toarray()\n",
    "y_train = y_train.fillna(0)\n",
    "transformed_y_train = np.array(y_train)"
   ]
  },
  {
   "cell_type": "code",
   "execution_count": 97,
   "metadata": {},
   "outputs": [],
   "source": [
    "transformed_X_test = vectorizer.transform(X_test)\n",
    "y_test = y_test.fillna(0)\n",
    "transformed_y_test = np.array(y_test)"
   ]
  },
  {
   "cell_type": "markdown",
   "metadata": {},
   "source": [
    "# Training models"
   ]
  },
  {
   "cell_type": "markdown",
   "metadata": {},
   "source": [
    "# 1. SVM"
   ]
  },
  {
   "cell_type": "code",
   "execution_count": 110,
   "metadata": {},
   "outputs": [
    {
     "name": "stdout",
     "output_type": "stream",
     "text": [
      "accuracy 0.875\n",
      "              precision    recall  f1-score   support\n",
      "\n",
      "           0       0.60      1.00      0.75         6\n",
      "           1       1.00      0.70      0.82        10\n",
      "           2       1.00      0.94      0.97        16\n",
      "\n",
      "    accuracy                           0.88        32\n",
      "   macro avg       0.87      0.88      0.85        32\n",
      "weighted avg       0.93      0.88      0.88        32\n",
      "\n"
     ]
    }
   ],
   "source": [
    "from sklearn.linear_model import SGDClassifier\n",
    "\n",
    "sgd =  SGDClassifier(loss='hinge', penalty='l2',alpha=1e-3, random_state=42, max_iter=5, tol=None)\n",
    "sgd.fit(transformed_X_train, transformed_y_train)\n",
    "yPred = sgd.predict(transformed_X_test)\n",
    "from sklearn.metrics import accuracy_score, confusion_matrix, classification_report\n",
    "print('accuracy %s' % accuracy_score(yPred, transformed_y_test))\n",
    "print(classification_report(transformed_y_test, yPred))"
   ]
  },
  {
   "cell_type": "markdown",
   "metadata": {},
   "source": [
    "# 2. Naive Bayes"
   ]
  },
  {
   "cell_type": "code",
   "execution_count": 113,
   "metadata": {},
   "outputs": [
    {
     "name": "stdout",
     "output_type": "stream",
     "text": [
      "accuracy 0.65625\n",
      "              precision    recall  f1-score   support\n",
      "\n",
      "           0       1.00      0.17      0.29         6\n",
      "           1       1.00      0.40      0.57        10\n",
      "           2       0.59      1.00      0.74        16\n",
      "\n",
      "    accuracy                           0.66        32\n",
      "   macro avg       0.86      0.52      0.53        32\n",
      "weighted avg       0.80      0.66      0.60        32\n",
      "\n"
     ]
    }
   ],
   "source": [
    "from sklearn.naive_bayes import MultinomialNB\n",
    "\n",
    "nb =  MultinomialNB()\n",
    "nb.fit(transformed_X_train, transformed_y_train)\n",
    "yPred = nb.predict(transformed_X_test)\n",
    "print('accuracy %s' % accuracy_score(yPred, transformed_y_test))\n",
    "print(classification_report(transformed_y_test, yPred))"
   ]
  },
  {
   "cell_type": "code",
   "execution_count": 114,
   "metadata": {},
   "outputs": [
    {
     "name": "stdout",
     "output_type": "stream",
     "text": [
      "accuracy 0.875\n",
      "              precision    recall  f1-score   support\n",
      "\n",
      "           0       1.00      0.83      0.91         6\n",
      "           1       0.89      0.80      0.84        10\n",
      "           2       0.83      0.94      0.88        16\n",
      "\n",
      "    accuracy                           0.88        32\n",
      "   macro avg       0.91      0.86      0.88        32\n",
      "weighted avg       0.88      0.88      0.87        32\n",
      "\n"
     ]
    }
   ],
   "source": [
    "from sklearn.linear_model import LogisticRegression\n",
    "\n",
    "lr =  LogisticRegression(max_iter=5, n_jobs=3)\n",
    "lr.fit(transformed_X_train, transformed_y_train)\n",
    "yPred = lr.predict(transformed_X_test)\n",
    "print('accuracy %s' % accuracy_score(yPred, transformed_y_test))\n",
    "print(classification_report(transformed_y_test, yPred))"
   ]
  }
 ],
 "metadata": {
  "kernelspec": {
   "display_name": "Python 3",
   "language": "python",
   "name": "python3"
  },
  "language_info": {
   "codemirror_mode": {
    "name": "ipython",
    "version": 3
   },
   "file_extension": ".py",
   "mimetype": "text/x-python",
   "name": "python",
   "nbconvert_exporter": "python",
   "pygments_lexer": "ipython3",
   "version": "3.11.1"
  }
 },
 "nbformat": 4,
 "nbformat_minor": 2
}
