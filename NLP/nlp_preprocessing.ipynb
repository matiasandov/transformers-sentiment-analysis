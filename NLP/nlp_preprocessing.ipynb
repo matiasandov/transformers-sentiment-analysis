{
 "cells": [
  {
   "cell_type": "code",
   "execution_count": 36,
   "metadata": {},
   "outputs": [
    {
     "name": "stdout",
     "output_type": "stream",
     "text": [
      "Defaulting to user installation because normal site-packages is not writeable\n",
      "Requirement already satisfied: nltk in /Users/matiasmendez/Library/Python/3.9/lib/python/site-packages (3.8.1)\n",
      "Requirement already satisfied: click in /Users/matiasmendez/Library/Python/3.9/lib/python/site-packages (from nltk) (8.1.7)\n",
      "Requirement already satisfied: joblib in /Users/matiasmendez/Library/Python/3.9/lib/python/site-packages (from nltk) (1.3.2)\n",
      "Requirement already satisfied: regex>=2021.8.3 in /Users/matiasmendez/Library/Python/3.9/lib/python/site-packages (from nltk) (2023.12.25)\n",
      "Requirement already satisfied: tqdm in /Users/matiasmendez/Library/Python/3.9/lib/python/site-packages (from nltk) (4.66.1)\n",
      "\n",
      "\u001b[1m[\u001b[0m\u001b[34;49mnotice\u001b[0m\u001b[1;39;49m]\u001b[0m\u001b[39;49m A new release of pip is available: \u001b[0m\u001b[31;49m23.3.2\u001b[0m\u001b[39;49m -> \u001b[0m\u001b[32;49m24.0\u001b[0m\n",
      "\u001b[1m[\u001b[0m\u001b[34;49mnotice\u001b[0m\u001b[1;39;49m]\u001b[0m\u001b[39;49m To update, run: \u001b[0m\u001b[32;49m/Library/Developer/CommandLineTools/usr/bin/python3 -m pip install --upgrade pip\u001b[0m\n"
     ]
    }
   ],
   "source": [
    "! pip install nltk"
   ]
  },
  {
   "cell_type": "code",
   "execution_count": 1,
   "metadata": {},
   "outputs": [],
   "source": [
    "from nltk.corpus import stopwords\n",
    "import pandas as pd\n",
    "import re "
   ]
  },
  {
   "cell_type": "code",
   "execution_count": 2,
   "metadata": {},
   "outputs": [],
   "source": [
    "allstopwords = stopwords.words('english')"
   ]
  },
  {
   "cell_type": "code",
   "execution_count": 3,
   "metadata": {},
   "outputs": [
    {
     "ename": "UnicodeDecodeError",
     "evalue": "'charmap' codec can't decode byte 0x8f in position 2719: character maps to <undefined>",
     "output_type": "error",
     "traceback": [
      "\u001b[1;31m---------------------------------------------------------------------------\u001b[0m",
      "\u001b[1;31mUnicodeDecodeError\u001b[0m                        Traceback (most recent call last)",
      "Cell \u001b[1;32mIn[3], line 4\u001b[0m\n\u001b[0;32m      1\u001b[0m \u001b[38;5;66;03m# Open the text file in read mode\u001b[39;00m\n\u001b[0;32m      2\u001b[0m \u001b[38;5;28;01mwith\u001b[39;00m \u001b[38;5;28mopen\u001b[39m(\u001b[38;5;124m'\u001b[39m\u001b[38;5;124mdescriptions_pre_NLP.txt\u001b[39m\u001b[38;5;124m'\u001b[39m, \u001b[38;5;124m'\u001b[39m\u001b[38;5;124mr\u001b[39m\u001b[38;5;124m'\u001b[39m) \u001b[38;5;28;01mas\u001b[39;00m file:\n\u001b[0;32m      3\u001b[0m     \u001b[38;5;66;03m# Read each line from the file and strip newline characters\u001b[39;00m\n\u001b[1;32m----> 4\u001b[0m     descriptions \u001b[38;5;241m=\u001b[39m [line\u001b[38;5;241m.\u001b[39mstrip() \u001b[38;5;28;01mfor\u001b[39;00m line \u001b[38;5;129;01min\u001b[39;00m \u001b[43mfile\u001b[49m\u001b[38;5;241;43m.\u001b[39;49m\u001b[43mreadlines\u001b[49m\u001b[43m(\u001b[49m\u001b[43m)\u001b[49m]\n\u001b[0;32m      6\u001b[0m \u001b[38;5;66;03m# Print the list containing each line as an item\u001b[39;00m\n\u001b[0;32m      7\u001b[0m \u001b[38;5;28mprint\u001b[39m(descriptions)\n",
      "File \u001b[1;32mc:\\Program Files\\Python311\\Lib\\encodings\\cp1252.py:23\u001b[0m, in \u001b[0;36mIncrementalDecoder.decode\u001b[1;34m(self, input, final)\u001b[0m\n\u001b[0;32m     22\u001b[0m \u001b[38;5;28;01mdef\u001b[39;00m \u001b[38;5;21mdecode\u001b[39m(\u001b[38;5;28mself\u001b[39m, \u001b[38;5;28minput\u001b[39m, final\u001b[38;5;241m=\u001b[39m\u001b[38;5;28;01mFalse\u001b[39;00m):\n\u001b[1;32m---> 23\u001b[0m     \u001b[38;5;28;01mreturn\u001b[39;00m codecs\u001b[38;5;241m.\u001b[39mcharmap_decode(\u001b[38;5;28minput\u001b[39m,\u001b[38;5;28mself\u001b[39m\u001b[38;5;241m.\u001b[39merrors,decoding_table)[\u001b[38;5;241m0\u001b[39m]\n",
      "\u001b[1;31mUnicodeDecodeError\u001b[0m: 'charmap' codec can't decode byte 0x8f in position 2719: character maps to <undefined>"
     ]
    }
   ],
   "source": [
    "# Open the text file in read mode\n",
    "with open('descriptions_pre_NLP.txt', 'r') as file:\n",
    "    # Read each line from the file and strip newline characters\n",
    "    descriptions = [line.strip() for line in file.readlines()]\n",
    "\n",
    "# Print the list containing each line as an item\n",
    "print(descriptions)\n"
   ]
  },
  {
   "cell_type": "code",
   "execution_count": 40,
   "metadata": {},
   "outputs": [],
   "source": [
    "descriptions = descriptions[1:]"
   ]
  },
  {
   "cell_type": "code",
   "execution_count": 41,
   "metadata": {},
   "outputs": [
    {
     "name": "stderr",
     "output_type": "stream",
     "text": [
      "[nltk_data] Downloading package wordnet to\n",
      "[nltk_data]     /Users/matiasmendez/nltk_data...\n",
      "[nltk_data]   Package wordnet is already up-to-date!\n",
      "[nltk_data] Downloading package omw-1.4 to\n",
      "[nltk_data]     /Users/matiasmendez/nltk_data...\n",
      "[nltk_data]   Package omw-1.4 is already up-to-date!\n"
     ]
    }
   ],
   "source": [
    "# Lemmatization --> get context\n",
    "import nltk\n",
    "nltk.download('wordnet')\n",
    "nltk.download('omw-1.4')\n",
    "from nltk.stem.wordnet import WordNetLemmatizer"
   ]
  },
  {
   "cell_type": "code",
   "execution_count": 42,
   "metadata": {},
   "outputs": [],
   "source": [
    "def remove_hashtags(text):\n",
    "    # Use a regular expression to find and remove hashtags\n",
    "    #replaces every hashtag with a ''\n",
    "    cleaned_text = re.sub(r'#\\w+', '', text)\n",
    "    return cleaned_text.strip()"
   ]
  },
  {
   "cell_type": "code",
   "execution_count": null,
   "metadata": {},
   "outputs": [],
   "source": [
    "def hashtag_at_end(phrase):\n",
    "    words = phrase.split()\n",
    "    if words[-1].startswith(\"#\"):\n",
    "        return True\n",
    "    else:\n",
    "        return False"
   ]
  },
  {
   "cell_type": "code",
   "execution_count": 43,
   "metadata": {},
   "outputs": [
    {
     "data": {
      "text/plain": [
       "['[\"Last week I had the pleasure to NFT Paris by the hand of Arianee . Witnessing the transformative power of Web3 and NFTs in reshaping the concept of ownership, particularly in relation to our personal data, left me inspired and eager to delve deeper into the evolving landscape of decentralized technologies. The event sparked valuable insights, and I\\'m excited to continue navigating the dynamic realm of blockchain innovations.   \"]',\n",
       " \"['Hello everyone Today, my friends Asma Ghamacha , Hermes Yan NTJAM NDJENG , Harold Geumtcheng , Aloys Aymrick Nzooh , Bryan Fozame and I had the chance to be part of the NFT Paris conference thanks to our school aivancity School for Technology, Business & Society Paris-Cachan where we learned a wealth of new information about blockchain, metaverse, web3 and its use cases across various industries such as finance, gaming, luxury, and more. During this enI had the privilege to engage in discussions with numerous brilliant web3 developers and CEOs from companies like Maxence Perray from Nomiks , Victor Briere from Arianee , Ubisoft , Louis Vuitton , and many others. These conversations provided me with deeper insights into this innovative technology and its intersection with data science, particularly in terms of transparency and tokenization on the blockchain.  ']\",\n",
       " \"['The digital world continues to intersect with traditional art forms as online trading platform Robinhood partners with Notable.art to bring prominent artist Hunt Slonem’s work to a wider audience through the use of Non-Fungible Tokens (NFTs) Sign up on our website to automatically enter our monthly prize raffle https://lnkd.in/dMcKcrpf                      ']\",\n",
       " '[\"Can’t wait to welcome everyone in Paris this week for NFT Paris 2024! 🚀 Shout to Alexandre Tsydenkov and the team at NFT Paris who have done an awesome job creating and curating one of the most relevant B2B and B2C web3 events in the world. Arianee & I will be present throughout the week at side-events, panels and of course, the main event on the 23rd and 24th with demos and a workshop. This year, Arianee will be taking a different approach with new activations: from taking over the VIP lounge, where we will be exhibiting all the brands building on our technology… from BREITLING to Panerai , Moncler , and many more, showcasing our tokenized digital product passports. Join me on stage on February 23rd for: 1️⃣ The opening keynote “From Hype to Purpose - Redefining NFTs for the next billion users”, at 10:15am CET 2️⃣ A panel with ian rogers (Chief Experience Officer, Ledger ) and Gmoney, on “Unleashing the Potential of the Digital Luxury Market” at 11:00am CET Our fellow team members & esteemed partners will also be on stage: 3️⃣ Delphine Eddé , our CMO, will be moderating a panel on “Digital Product Passports for Physical Goods: From Post Purchase Engagement to Circular Business Models with Eva Assayag (Head of IS & Organization Projects, Panerai ), Adrian Corsin (Managing Director, MUGLER ), Michele Lo Forte (Global Head of E-Commerce and Digital Customer Engagement, BREITLING ) on Friday 23rd at 12:40am CET 4️⃣ Alexandre Mare will be joining Fabien Aufrechter (Head of Web3, Vivendi ), Sandy Carter (COO, Unstoppable Domains ), moderated by Farokh Sarmad (Rug Media) to discuss “Onboarding the Next Billions Users into Web3: Use Cases, Challenges, Opportunities” on Saturday 24th at 12:40am CET 5️⃣ Our Lead Developer Maxime Vaullerin will host a workshop on “Enhance Digital Product Passport Utilities with Interoperability” on Saturday 24th at 3:00pm CET Last but not least, we’ll be co-hosting the Speakers Dinner on Thursday, 22nd and a lunch with Polygon Labs on the 23rd in the VIP Lounge. If you have some time, go check out Musée d\\'Orsay , where my dear friend { Agoria } , an amazing musician and NFT artist, has opened an exhibition with two extraordinary works created specifically for the museum. Go check it out! I might be organizing a little private tour, so DM if you are interested ;-) It’s going to be a crazy week, looking forward to seeing you all. Thanks to the amazing Arianee team for making it happen. Don’t hesitate to drop me a note if you’re interested in setting up a meeting, want to attend any of the side events or need any food tips for Paris Click here to get the full Arianee agenda: https://lnkd.in/euJePd_D 📅 Save the Date: February 23-24, 2024 📍 Location: Grand Palais Éphémère, Paris\"]',\n",
       " '[\"DualMint is set to launch Toji NFT, Japanese sake tokenized on the blockchain on the 2nd March,2024. It\\'s in collaboration with the 200 year old sake producers, Daimon Brewery. This partnership is a big deal because it showcases real world assets tokenization apart from the existing real estate tokenization and financial product tokenization. Want to be a part of the launch? Read more in the latest newsletter.\", \"This Week on RWA Insights 🚀 📌 Dive into how Day by Day leverages RWAs and AI to redefine insurance, 📌 Get ready for DualMint\\'s Toji NFT launch on March 2nd, 2024. 📌 Explore our featured blog post on revolutionizing the commodities market. Don\\'t miss out on these groundbreaking insights!       \"]',\n",
       " \"['Join me Saturday, February 24th at NFT Paris where I will be speaking alongside Fabien Aufrechter (Head of Web3, Vivendi), Sandy Carter (COO, Unstoppable Domains), moderated by Farokh Sarmad (Rug Media) to discuss “Onboarding the Next Billions Users into Web3: Use cases, Challenges, Opportunities”. Discover how Arianee’s digital product passports can unlock a new circular economy. Arianee will also have a massive presence at NFT Paris, full of panels, workshops & demo. See the full agenda below 👇 📅 Save the Date: February 23-24, 2024 📍 Location: Grand Palais Éphémère, Paris', 'NFT Paris 2024 starts in exactly one week! Besides taking over the VIP Lounge, we have a couple other things up our sleeve… Catch out our keynote, panels, workshop and look out for the Arianee team (hint: we might be wearing something pink 😉), especially in the Builder Zone booth .. Check out the details below, save and share this post, and see you next week! Day 1: February 23rd Opening keynote: From Hype to Purpose: Redefining NFTs for The Next Billion Users 🎤 Pierre-Nicolas Hurstel (CEO & Co-Founder, Arianee) 🗓️ 10:15am - 10:30am 📍 Main Stage Panel 1 : Digital Product Passports for Physical Goods: From Post Purchase Engagement to Circular Business Models 🎤 Eva Assayag (Head of IS & Organization Projects, Panerai), Adrian Corsin (Managing Director, MUGLER ), Michele Lo Forte (Global Head of E-Commerce and Digital Customer Engagement, BREITLING ) | Moderated by Delphine Eddé (CMO, Arianee) 🗓️12:40am - 1:10pm 📍Main Stage Panel 2: 2034: Unleashing the Potential of the Digital Luxury Market 🎤 ian rogers (Chief Experience Officer, Ledger ), Gmoney and Pierre-Nicolas (CEO & Co-Founder, Arianee) | Moderated by Amanda Cassatt \\\\u200b\\\\u200b(CEO & Founder, Serotonin ) 🗓️11:00am - 11:30am 📍Main Stage Day 2: February 24th Panel 3: Onboarding The Next Billions Users into Web3: Use Cases, Challenges, Opportunities 🎤 Fabien Aufrechter (Head of Web3, Vivendi ), Sandy Carter (COO, Unstoppable Domains ) and Alexandre Mare (COO, Arianee) | Moderated by Farokh Sarmad , Rug Radio ) 🗓️12:40am - 1:10pm 📍Main Stage Workshop: Enhance Digital Product Passport Utilities with Interoperability - The Arianee Case 🎤 Maxime Vaullerin (Lead Developer, Arianee) 🗓️3:00pm - 3:35pm 📍Eiffel Stage 👀 Look out for more announcements next week! Book a meeting with us in advance: https://lnkd.in/guSVreC4 Still haven’t secured your tickets? Follow the link below and get a special discount with the code PN15 https://lnkd.in/dn8D3xHR Discover more on our digital product passport solutions: https://lnkd.in/e78re2hD 📅 Save the Date: February 23-24, 2024 📍 Location: Grand Palais Éphémère, Paris See you there!']\",\n",
       " \"['Hello everyone Today, I had the chance to be part of the NFT Paris conference where I learned a wealth of new information about blockchain and its use cases across various industries such as finance, gaming, luxury, and more. I had the privilege to engage in discussions with numerous brilliant web3 developers and CEOs from companies like Maxence Perray from  , Victor Briere from  ,  ,  ,  , and many others. These conversations provided me with deeper insights into this innovative technology and its intersection with data science, particularly in terms of transparency and tokenization on the blockchain.  ']\",\n",
       " \"['“Comment acheter les NFT de ‘Eyes of Humanity’ et en tirer profit”']\",\n",
       " \"['A guide to   and a snapshot of data trends.']\",\n",
       " '[\\'For a long time I imagined, this term or there was always something. Well, and now, regardless of the circumstances, I said that waiting is enough and that nothing more needs to be done for this to happen. Thus, I publicly presented my alter ego \"The Knight with the Rose\" ( https://lnkd.in/gDWS9mas ), my music group MonteCristo ( https://lnkd.in/g_p2V9KQ ), and the first NFT of my book! and combined it all into the NIGHT WITHOUT GAME event. With this, exactly what I have been doing all my life was born and made sense. Art, lecture, conversation, music... the masks have fallen, the games are gone. We are the only ones left who watch with our hearts!\\']',\n",
       " '[\"Brands can now create digital narratives where customers can actively participate, adding an immersive dimension to their marketing efforts. Imagine launching a product line where each item is accompanied by an NFT, each telling a different story of the brand\\'s heritage or the product\\'s journey. This approach not only enriches the customer experience but also fosters a deeper connection with the brand.\"]',\n",
       " \"['    ']\",\n",
       " \"['A bit more than 17 300 entries over 2 days - NFT Paris was a blast !! Particularly proud of the attendance of major companies in the luxury, sport, gaming, finance, art sector and their support this year. Even Tesla was here ! NFTs are evolving, the sector is becoming more mature - From Hype to purpose introduction keynote from Pierre-Nicolas Hurstel is the defining theme of this edition. Once hype is gone, what remains ? 1 - A brilliant community & culture. 2 - Real use cases that finally appear. Slowly, then all at once - let the consolidation do its work.']\",\n",
       " \"['A guide to Bored Ape Yacht Club  and a snapshot of data trends.']\",\n",
       " '[\\'A SaaS platform on top of the Arianee Protocol - to distribute gasless NFTs with special features and engage customers securely, anonymously and at scale!\\', \"NFTs are revolutionizing the way we think about ownership and value in the digital world in ways that are deeper and more meaningful than having a customer’s email address. But, as with any nascent technology, there\\'s a lot of complexity to navigate. That\\'s where the NFT Management Platform (NMP) comes in to make web3 more accessible to brands. In this article, we\\'ll explore why we created the NMP and the future we envision for it.  \"]',\n",
       " \"['Is this the best way to capitalize on a Web3 conference ? Some context : At the end of last year we decided with the BGA team to double down  on our effort to provide an opportunity for BGA members and Web3 Gaming enthusiasts to network and learn from each other. We want  to be the embodiment of this new comitment. During NFT Paris, we were very happy to see that the different verticals of BGAConnects made sense for every atendee : 🎤 Learn from the experience of those who are innovating. We were very fortunate to have Yat Siu , Nicolas Gilot among many brilliant entrepreneurs in our 5 panels. 🏆 Give an opportunity for start ups to meet potential investors 🕹 Just... Play some games and meet the visionaries who are behing. One last note : Always try to contribute to other events based on the expertise you could provide as a network of professionals in a specific ecosystem. Super happy that our members had the chance to play a role in some of the best side events of NFT Paris. See our takeaways here : https://lnkd.in/eGHhc336']\",\n",
       " '[\\'In just two days, YSL Beauté will reveal their latest NFT chapter, \"The Night Is Ours\". As we wait in anticipation, let\\\\\\'s take a trip down memory lane and check out all the fantastic drops they have previously released. Discover YSL Beauté web3 website: https://lnkd.in/g7hsT_Vq  \\']',\n",
       " '[\"What a fantastic week at NFT Paris ! 🥂 Met so many incredible people in the  space and I spent some quality time with team members I don\\'t often see face-to-face, like my CTO, Alexandre Cognard ! It was great sharing memories and talking about the progress made since I started at Arianee almost 2 years ago. Learning from him has been an incredible opportunity for me to develop my career and gain insight into other fields such as tech & management. Getting to know the ins and outs of their day-to-day work made me understand the tech team better. I gained insights into their viewpoints, strengthening mutual understanding & boosting alignment within the company. Thanks for the organization Alexandre Tsydenkov 🙌 Can\\'t wait for next year !\"]',\n",
       " '[\"Great coverage by Louise Laing of what\\'s happening in Digital Fashion from NFT Paris. User-Generated Content is taking off and The Sandbox stands as a transformative force in the digital fashion landscape. “The next big designer will emerge from a platform like The Sandbox with their customers recognising them as the next big brand.” This is validated by initiatives like the Art of Runway and collaborations with Digital Fashion Week 3D designers, known as voxel creators, can present their creations for sale in the game, gaining exposure to a different audience and garnering the opportunity to monetise from their creations whilst growing their digital community. https://lnkd.in/eHxX2UXZ @TrueStarsMedia @nft_paris @DgtlFashionWeek\"]',\n",
       " \"['📊  Fintech Focus 🔎  📢  NFTs - Are Non-Fungible Tokens The Next Big Thing  ⌛️ or Just Hype? Read my latest post  👇 to learn more and share your thoughts/experiences/ideas!        ']\"]"
      ]
     },
     "execution_count": 43,
     "metadata": {},
     "output_type": "execute_result"
    }
   ],
   "source": [
    "for i in range(len(descriptions)):\n",
    "    if \n",
    "    descriptions[i] = remove_hashtags(descriptions[i])\n",
    "    if descriptions[i] == '':\n",
    "        descriptions[i] = 'This is a neutral comment'\n",
    "\n",
    "descriptions"
   ]
  },
  {
   "cell_type": "code",
   "execution_count": 44,
   "metadata": {},
   "outputs": [],
   "source": [
    "eliminarAcentos = lambda str: str.translate(str.maketrans(\"áàäéèëíìïòóöùúüÀÁÄÈÉËÌÍÏÒÓÖÙÚÜ\", \"aaaeeeiiiooouuuAAAEEEIIIOOOUUU\"))\n",
    "\n",
    "corpus = [] \n",
    "\n",
    "for i in descriptions:\n",
    "    item = eliminarAcentos(i)\n",
    "    # 1. Quitamos todo lo que no sea una letra:\n",
    "    item = re.sub(\"[^a-zA-Z]\", \" \", item) \n",
    "    # 2. Todo en minúsculas:\n",
    "    item = item.lower()\n",
    "    # 2.1 Quitamos espacios multiples y dejamos solo uno:\n",
    "    item = re.sub(\"[\\s]+\", \" \", item)\n",
    "\n",
    "    # 2.2 Extra: Quitar palabras de menos de 3 letras y espacios al principio y final\n",
    "    item = re.sub(r\"\\W*\\b\\w{1,3}\\b\", \"\", item)\n",
    "    item = item.strip()\n",
    "\n",
    "    # 3. Separamos oraciones para obtener puras palabras\n",
    "    item = item.split()\n",
    "\n",
    "    # 4. Extraer el significado detrás de cada palabra Stemming o Lemmatization y eliminar ruido\n",
    "    #stemmer = SnowballStemmer('spanish') # Best stemmer\n",
    "    #ps = PorterStemmer()\n",
    "    lemmatizer = WordNetLemmatizer()\n",
    "\n",
    "    # 4.1 Además queremos quitar palabras irrelevantes como artículos\n",
    "   \n",
    "    #all_stopwords.remove(\"palabra\") # --> para excepciones que no queramos incluir\n",
    "\n",
    "    # 4.2 Unimos el Stemmer/Lematization para cada palabra que no esté dentro de la lista de stopwords\n",
    "    #item = [stemmer.stem(word) for word in item if word not in set(all_stopwords)]\n",
    "    item = [lemmatizer.lemmatize(word) for word in item if word not in set(allstopwords)]\n",
    "    #item = [word for word in item if word not in set(all_stopwords)]\n",
    "\n",
    "  \n",
    "    # 5. Unir oraciones con espacios entre cada palabra\n",
    "    item = \" \".join(item)\n",
    "    corpus.append(item)"
   ]
  },
  {
   "cell_type": "code",
   "execution_count": 45,
   "metadata": {},
   "outputs": [
    {
     "data": {
      "text/plain": [
       "['last week pleasure paris hand arianee witnessing transformative power nfts reshaping concept ownership particularly relation personal data left inspired eager delve deeper evolving landscape decentralized technology event sparked valuable insight excited continue navigating dynamic realm blockchain innovation',\n",
       " 'hello everyone today friend asma ghamacha hermes ntjam ndjeng harold geumtcheng aloys aymrick nzooh bryan fozame chance part paris conference thanks school aivancity school technology business society paris cachan learned wealth information blockchain metaverse case across various industry finance gaming luxury privilege engage discussion numerous brilliant developer ceo company like maxence perray nomiks victor briere arianee ubisoft louis vuitton many others conversation provided deeper insight innovative technology intersection data science particularly term transparency tokenization blockchain',\n",
       " 'digital world continues intersect traditional form online trading platform robinhood partner notable bring prominent artist hunt slonem work wider audience fungible token nfts sign website automatically enter monthly prize raffle http lnkd dmckcrpf',\n",
       " 'wait welcome everyone paris week paris shout alexandre tsydenkov team paris done awesome creating curating relevant event world arianee present throughout week side event panel course main event demo workshop year arianee taking different approach activation taking lounge exhibiting brand building technology breitling panerai moncler many showcasing tokenized digital product passport join stage february opening keynote hype purpose redefining nfts next billion user panel rogers chief experience officer ledger gmoney unleashing potential digital luxury market fellow team member esteemed partner also stage delphine edde moderating panel digital product passport physical good post purchase engagement circular business model assayag head organization project panerai adrian corsin managing director mugler michele forte global head commerce digital customer engagement breitling friday alexandre mare joining fabien aufrechter head vivendi sandy carter unstoppable domain moderated farokh sarmad medium discus onboarding next billion user case challenge opportunity saturday lead developer maxime vaullerin host workshop enhance digital product passport utility interoperability saturday last least hosting speaker dinner thursday lunch polygon lab lounge time check musee orsay dear friend agoria amazing musician artist opened exhibition extraordinary work created specifically museum check might organizing little private tour interested going crazy week looking forward seeing thanks amazing arianee team making happen hesitate drop note interested setting meeting want attend side event need food tip paris click full arianee agenda http lnkd eujepd save date february location grand palais ephemere paris',\n",
       " 'dualmint launch toji japanese sake tokenized blockchain march collaboration year sake producer daimon brewery partnership deal showcase real world asset tokenization apart existing real estate tokenization financial product tokenization want part launch read latest newsletter week insight dive leverage rwas redefine insurance ready dualmint toji launch march explore featured blog post revolutionizing commodity market miss groundbreaking insight',\n",
       " 'join saturday february paris speaking alongside fabien aufrechter head vivendi sandy carter unstoppable domain moderated farokh sarmad medium discus onboarding next billion user case challenge opportunity discover arianee digital product passport unlock circular economy arianee also massive presence paris full panel workshop demo full agenda save date february location grand palais ephemere paris paris start exactly week besides taking lounge couple thing sleeve catch keynote panel workshop look arianee team hint might wearing something pink especially builder zone booth check detail save share post next week february opening keynote hype purpose redefining nfts next billion user pierre nicolas hurstel founder arianee main stage panel digital product passport physical good post purchase engagement circular business model assayag head organization project panerai adrian corsin managing director mugler michele forte global head commerce digital customer engagement breitling moderated delphine edde arianee main stage panel unleashing potential digital luxury market rogers chief experience officer ledger gmoney pierre nicolas founder arianee moderated amanda cassatt founder serotonin main stage february panel onboarding next billion user case challenge opportunity fabien aufrechter head vivendi sandy carter unstoppable domain alexandre mare arianee moderated farokh sarmad radio main stage workshop enhance digital product passport utility interoperability arianee case maxime vaullerin lead developer arianee eiffel stage look announcement next week book meeting advance http lnkd gusvrec still secured ticket follow link special discount code http lnkd discover digital product passport solution http lnkd save date february location grand palais ephemere paris',\n",
       " 'hello everyone today chance part paris conference learned wealth information blockchain case across various industry finance gaming luxury privilege engage discussion numerous brilliant developer ceo company like maxence perray victor briere many others conversation provided deeper insight innovative technology intersection data science particularly term transparency tokenization blockchain',\n",
       " 'comment acheter eye humanity tirer profit',\n",
       " 'guide snapshot data trend',\n",
       " 'long time imagined term always something well regardless circumstance said waiting enough nothing need done happen thus publicly presented alter knight rose http lnkd gdws music group montecristo http lnkd first book combined night without game event exactly life born made sense lecture conversation music mask fallen game gone one left watch heart',\n",
       " 'brand create digital narrative customer actively participate adding immersive dimension marketing effort imagine launching product line item accompanied telling different story brand heritage product journey approach enriches customer experience also foster deeper connection brand',\n",
       " '',\n",
       " 'entry day paris blast particularly proud attendance major company luxury sport gaming finance sector support year even tesla nfts evolving sector becoming mature hype purpose introduction keynote pierre nicolas hurstel defining theme edition hype gone remains brilliant community culture real case finally appear slowly consolidation work',\n",
       " 'guide bored yacht club snapshot data trend',\n",
       " 'saas platform arianee protocol distribute gasless nfts special feature engage customer securely anonymously scale nfts revolutionizing think ownership value digital world way deeper meaningful customer email address nascent technology complexity navigate management platform come make accessible brand article explore created future envision',\n",
       " 'best capitalize conference context last year decided team double effort provide opportunity member gaming enthusiast network learn want embodiment comitment paris happy different vertical bgaconnects made sense every atendee learn experience innovating fortunate nicolas gilot among many brilliant entrepreneur panel give opportunity start meet potential investor play game meet visionary behing last note always contribute event based expertise could provide network professional specific ecosystem super happy member chance play role best side event paris takeaway http lnkd eghhc',\n",
       " 'day beaute reveal latest chapter night wait anticipation take trip memory lane check fantastic drop previously released discover beaute website http lnkd',\n",
       " 'fantastic week paris many incredible people space spent quality time team member often face face like alexandre cognard great sharing memory talking progress made since started arianee almost year learning incredible opportunity develop career gain insight field tech management getting know out work made understand tech team better gained insight viewpoint strengthening mutual understanding boosting alignment within company thanks organization alexandre tsydenkov wait next year',\n",
       " 'great coverage louise laing happening digital fashion paris user generated content taking sandbox stand transformative force digital fashion landscape next designer emerge platform like sandbox customer recognising next brand validated initiative like runway collaboration digital fashion week designer known voxel creator present creation sale game gaining exposure different audience garnering opportunity monetise creation whilst growing digital community http lnkd ehxx truestarsmedia paris dgtlfashionweek',\n",
       " 'fintech focus nfts fungible token next thing hype read latest post learn share thought experience idea']"
      ]
     },
     "execution_count": 45,
     "metadata": {},
     "output_type": "execute_result"
    }
   ],
   "source": [
    "corpus"
   ]
  },
  {
   "cell_type": "code",
   "execution_count": null,
   "metadata": {},
   "outputs": [],
   "source": []
  }
 ],
 "metadata": {
  "kernelspec": {
   "display_name": "Python 3",
   "language": "python",
   "name": "python3"
  },
  "language_info": {
   "codemirror_mode": {
    "name": "ipython",
    "version": 3
   },
   "file_extension": ".py",
   "mimetype": "text/x-python",
   "name": "python",
   "nbconvert_exporter": "python",
   "pygments_lexer": "ipython3",
   "version": "3.11.1"
  }
 },
 "nbformat": 4,
 "nbformat_minor": 2
}
