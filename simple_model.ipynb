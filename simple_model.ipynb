{
 "cells": [
  {
   "cell_type": "code",
   "execution_count": 1,
   "metadata": {},
   "outputs": [
    {
     "name": "stdout",
     "output_type": "stream",
     "text": [
      "Requirement already satisfied: flair in /opt/anaconda3/envs/ml/lib/python3.8/site-packages (0.13.1)\n",
      "Requirement already satisfied: boto3>=1.20.27 in /opt/anaconda3/envs/ml/lib/python3.8/site-packages (from flair) (1.34.55)\n",
      "Requirement already satisfied: bpemb>=0.3.2 in /opt/anaconda3/envs/ml/lib/python3.8/site-packages (from flair) (0.3.4)\n",
      "Requirement already satisfied: conllu>=4.0 in /opt/anaconda3/envs/ml/lib/python3.8/site-packages (from flair) (4.5.3)\n",
      "Requirement already satisfied: deprecated>=1.2.13 in /opt/anaconda3/envs/ml/lib/python3.8/site-packages (from flair) (1.2.14)\n",
      "Requirement already satisfied: ftfy>=6.1.0 in /opt/anaconda3/envs/ml/lib/python3.8/site-packages (from flair) (6.1.3)\n",
      "Requirement already satisfied: gdown>=4.4.0 in /opt/anaconda3/envs/ml/lib/python3.8/site-packages (from flair) (5.1.0)\n",
      "Requirement already satisfied: gensim>=4.2.0 in /opt/anaconda3/envs/ml/lib/python3.8/site-packages (from flair) (4.3.2)\n",
      "Requirement already satisfied: huggingface-hub>=0.10.0 in /opt/anaconda3/envs/ml/lib/python3.8/site-packages (from flair) (0.21.3)\n",
      "Requirement already satisfied: janome>=0.4.2 in /opt/anaconda3/envs/ml/lib/python3.8/site-packages (from flair) (0.5.0)\n",
      "Requirement already satisfied: langdetect>=1.0.9 in /opt/anaconda3/envs/ml/lib/python3.8/site-packages (from flair) (1.0.9)\n",
      "Requirement already satisfied: lxml>=4.8.0 in /opt/anaconda3/envs/ml/lib/python3.8/site-packages (from flair) (5.1.0)\n",
      "Requirement already satisfied: matplotlib>=2.2.3 in /opt/anaconda3/envs/ml/lib/python3.8/site-packages (from flair) (3.7.3)\n",
      "Requirement already satisfied: more-itertools>=8.13.0 in /opt/anaconda3/envs/ml/lib/python3.8/site-packages (from flair) (10.2.0)\n",
      "Requirement already satisfied: mpld3>=0.3 in /opt/anaconda3/envs/ml/lib/python3.8/site-packages (from flair) (0.5.10)\n",
      "Requirement already satisfied: pptree>=3.1 in /opt/anaconda3/envs/ml/lib/python3.8/site-packages (from flair) (3.1)\n",
      "Requirement already satisfied: python-dateutil>=2.8.2 in /opt/anaconda3/envs/ml/lib/python3.8/site-packages (from flair) (2.9.0)\n",
      "Requirement already satisfied: pytorch-revgrad>=0.2.0 in /opt/anaconda3/envs/ml/lib/python3.8/site-packages (from flair) (0.2.0)\n",
      "Requirement already satisfied: regex>=2022.1.18 in /opt/anaconda3/envs/ml/lib/python3.8/site-packages (from flair) (2023.12.25)\n",
      "Requirement already satisfied: scikit-learn>=1.0.2 in /opt/anaconda3/envs/ml/lib/python3.8/site-packages (from flair) (1.3.2)\n",
      "Requirement already satisfied: segtok>=1.5.11 in /opt/anaconda3/envs/ml/lib/python3.8/site-packages (from flair) (1.5.11)\n",
      "Requirement already satisfied: sqlitedict>=2.0.0 in /opt/anaconda3/envs/ml/lib/python3.8/site-packages (from flair) (2.1.0)\n",
      "Requirement already satisfied: tabulate>=0.8.10 in /opt/anaconda3/envs/ml/lib/python3.8/site-packages (from flair) (0.9.0)\n",
      "Requirement already satisfied: torch!=1.8,>=1.5.0 in /opt/anaconda3/envs/ml/lib/python3.8/site-packages (from flair) (2.2.1)\n",
      "Requirement already satisfied: tqdm>=4.63.0 in /opt/anaconda3/envs/ml/lib/python3.8/site-packages (from flair) (4.66.2)\n",
      "Requirement already satisfied: transformer-smaller-training-vocab>=0.2.3 in /opt/anaconda3/envs/ml/lib/python3.8/site-packages (from flair) (0.3.3)\n",
      "Requirement already satisfied: transformers<5.0.0,>=4.18.0 in /opt/anaconda3/envs/ml/lib/python3.8/site-packages (from transformers[sentencepiece]<5.0.0,>=4.18.0->flair) (4.36.2)\n",
      "Requirement already satisfied: urllib3<2.0.0,>=1.0.0 in /opt/anaconda3/envs/ml/lib/python3.8/site-packages (from flair) (1.26.18)\n",
      "Requirement already satisfied: wikipedia-api>=0.5.7 in /opt/anaconda3/envs/ml/lib/python3.8/site-packages (from flair) (0.6.0)\n",
      "Requirement already satisfied: semver<4.0.0,>=3.0.0 in /opt/anaconda3/envs/ml/lib/python3.8/site-packages (from flair) (3.0.2)\n",
      "Requirement already satisfied: botocore<1.35.0,>=1.34.55 in /opt/anaconda3/envs/ml/lib/python3.8/site-packages (from boto3>=1.20.27->flair) (1.34.55)\n",
      "Requirement already satisfied: jmespath<2.0.0,>=0.7.1 in /opt/anaconda3/envs/ml/lib/python3.8/site-packages (from boto3>=1.20.27->flair) (1.0.1)\n",
      "Requirement already satisfied: s3transfer<0.11.0,>=0.10.0 in /opt/anaconda3/envs/ml/lib/python3.8/site-packages (from boto3>=1.20.27->flair) (0.10.0)\n",
      "Requirement already satisfied: numpy in /opt/anaconda3/envs/ml/lib/python3.8/site-packages (from bpemb>=0.3.2->flair) (1.24.3)\n",
      "Requirement already satisfied: requests in /opt/anaconda3/envs/ml/lib/python3.8/site-packages (from bpemb>=0.3.2->flair) (2.31.0)\n",
      "Requirement already satisfied: sentencepiece in /opt/anaconda3/envs/ml/lib/python3.8/site-packages (from bpemb>=0.3.2->flair) (0.1.99)\n",
      "Requirement already satisfied: wrapt<2,>=1.10 in /opt/anaconda3/envs/ml/lib/python3.8/site-packages (from deprecated>=1.2.13->flair) (1.16.0)\n",
      "Requirement already satisfied: wcwidth<0.3.0,>=0.2.12 in /opt/anaconda3/envs/ml/lib/python3.8/site-packages (from ftfy>=6.1.0->flair) (0.2.13)\n",
      "Requirement already satisfied: beautifulsoup4 in /opt/anaconda3/envs/ml/lib/python3.8/site-packages (from gdown>=4.4.0->flair) (4.12.3)\n",
      "Requirement already satisfied: filelock in /opt/anaconda3/envs/ml/lib/python3.8/site-packages (from gdown>=4.4.0->flair) (3.13.1)\n",
      "Requirement already satisfied: scipy>=1.7.0 in /opt/anaconda3/envs/ml/lib/python3.8/site-packages (from gensim>=4.2.0->flair) (1.10.1)\n",
      "Requirement already satisfied: smart-open>=1.8.1 in /opt/anaconda3/envs/ml/lib/python3.8/site-packages (from gensim>=4.2.0->flair) (6.4.0)\n",
      "Requirement already satisfied: fsspec>=2023.5.0 in /opt/anaconda3/envs/ml/lib/python3.8/site-packages (from huggingface-hub>=0.10.0->flair) (2024.2.0)\n",
      "Requirement already satisfied: pyyaml>=5.1 in /opt/anaconda3/envs/ml/lib/python3.8/site-packages (from huggingface-hub>=0.10.0->flair) (6.0.1)\n",
      "Requirement already satisfied: typing-extensions>=3.7.4.3 in /opt/anaconda3/envs/ml/lib/python3.8/site-packages (from huggingface-hub>=0.10.0->flair) (4.10.0)\n",
      "Requirement already satisfied: packaging>=20.9 in /opt/anaconda3/envs/ml/lib/python3.8/site-packages (from huggingface-hub>=0.10.0->flair) (23.2)\n",
      "Requirement already satisfied: six in /opt/anaconda3/envs/ml/lib/python3.8/site-packages (from langdetect>=1.0.9->flair) (1.16.0)\n",
      "Requirement already satisfied: contourpy>=1.0.1 in /opt/anaconda3/envs/ml/lib/python3.8/site-packages (from matplotlib>=2.2.3->flair) (1.1.1)\n",
      "Requirement already satisfied: cycler>=0.10 in /opt/anaconda3/envs/ml/lib/python3.8/site-packages (from matplotlib>=2.2.3->flair) (0.12.1)\n",
      "Requirement already satisfied: fonttools>=4.22.0 in /opt/anaconda3/envs/ml/lib/python3.8/site-packages (from matplotlib>=2.2.3->flair) (4.49.0)\n",
      "Requirement already satisfied: kiwisolver>=1.0.1 in /opt/anaconda3/envs/ml/lib/python3.8/site-packages (from matplotlib>=2.2.3->flair) (1.4.5)\n",
      "Requirement already satisfied: pillow>=6.2.0 in /opt/anaconda3/envs/ml/lib/python3.8/site-packages (from matplotlib>=2.2.3->flair) (9.4.0)\n",
      "Requirement already satisfied: pyparsing>=2.3.1 in /opt/anaconda3/envs/ml/lib/python3.8/site-packages (from matplotlib>=2.2.3->flair) (3.1.1)\n",
      "Requirement already satisfied: importlib-resources>=3.2.0 in /opt/anaconda3/envs/ml/lib/python3.8/site-packages (from matplotlib>=2.2.3->flair) (6.1.2)\n",
      "Requirement already satisfied: jinja2 in /opt/anaconda3/envs/ml/lib/python3.8/site-packages (from mpld3>=0.3->flair) (3.1.3)\n",
      "Requirement already satisfied: joblib>=1.1.1 in /opt/anaconda3/envs/ml/lib/python3.8/site-packages (from scikit-learn>=1.0.2->flair) (1.3.2)\n",
      "Requirement already satisfied: threadpoolctl>=2.0.0 in /opt/anaconda3/envs/ml/lib/python3.8/site-packages (from scikit-learn>=1.0.2->flair) (3.3.0)\n",
      "Requirement already satisfied: sympy in /opt/anaconda3/envs/ml/lib/python3.8/site-packages (from torch!=1.8,>=1.5.0->flair) (1.12)\n",
      "Requirement already satisfied: networkx in /opt/anaconda3/envs/ml/lib/python3.8/site-packages (from torch!=1.8,>=1.5.0->flair) (3.1)\n",
      "Requirement already satisfied: tokenizers<0.19,>=0.14 in /opt/anaconda3/envs/ml/lib/python3.8/site-packages (from transformers<5.0.0,>=4.18.0->transformers[sentencepiece]<5.0.0,>=4.18.0->flair) (0.15.2)\n",
      "Requirement already satisfied: safetensors>=0.3.1 in /opt/anaconda3/envs/ml/lib/python3.8/site-packages (from transformers<5.0.0,>=4.18.0->transformers[sentencepiece]<5.0.0,>=4.18.0->flair) (0.4.2)\n",
      "Requirement already satisfied: protobuf in /opt/anaconda3/envs/ml/lib/python3.8/site-packages (from transformers[sentencepiece]<5.0.0,>=4.18.0->flair) (4.25.3)\n",
      "Requirement already satisfied: zipp>=3.1.0 in /opt/anaconda3/envs/ml/lib/python3.8/site-packages (from importlib-resources>=3.2.0->matplotlib>=2.2.3->flair) (3.17.0)\n",
      "Requirement already satisfied: accelerate>=0.21.0 in /opt/anaconda3/envs/ml/lib/python3.8/site-packages (from transformers[torch]<5.0,>=4.1->transformer-smaller-training-vocab>=0.2.3->flair) (0.27.2)\n",
      "Requirement already satisfied: soupsieve>1.2 in /opt/anaconda3/envs/ml/lib/python3.8/site-packages (from beautifulsoup4->gdown>=4.4.0->flair) (2.5)\n",
      "Requirement already satisfied: MarkupSafe>=2.0 in /opt/anaconda3/envs/ml/lib/python3.8/site-packages (from jinja2->mpld3>=0.3->flair) (2.1.5)\n",
      "Requirement already satisfied: charset-normalizer<4,>=2 in /opt/anaconda3/envs/ml/lib/python3.8/site-packages (from requests->bpemb>=0.3.2->flair) (3.3.2)\n",
      "Requirement already satisfied: idna<4,>=2.5 in /opt/anaconda3/envs/ml/lib/python3.8/site-packages (from requests->bpemb>=0.3.2->flair) (3.6)\n",
      "Requirement already satisfied: certifi>=2017.4.17 in /opt/anaconda3/envs/ml/lib/python3.8/site-packages (from requests->bpemb>=0.3.2->flair) (2024.2.2)\n",
      "Requirement already satisfied: PySocks!=1.5.7,>=1.5.6 in /opt/anaconda3/envs/ml/lib/python3.8/site-packages (from requests[socks]->gdown>=4.4.0->flair) (1.7.1)\n",
      "Requirement already satisfied: mpmath>=0.19 in /opt/anaconda3/envs/ml/lib/python3.8/site-packages (from sympy->torch!=1.8,>=1.5.0->flair) (1.3.0)\n",
      "Requirement already satisfied: psutil in /opt/anaconda3/envs/ml/lib/python3.8/site-packages (from accelerate>=0.21.0->transformers[torch]<5.0,>=4.1->transformer-smaller-training-vocab>=0.2.3->flair) (5.9.8)\n"
     ]
    }
   ],
   "source": [
    "! pip install flair"
   ]
  },
  {
   "cell_type": "markdown",
   "metadata": {},
   "source": [
    "Flair uses PyTorch/TensorFlow in under the hood, so it's essential that you also have one of the two libraries (or both) installed."
   ]
  },
  {
   "cell_type": "code",
   "execution_count": 2,
   "metadata": {},
   "outputs": [
    {
     "name": "stderr",
     "output_type": "stream",
     "text": [
      "/opt/anaconda3/envs/ml/lib/python3.8/site-packages/transformers/utils/generic.py:441: UserWarning: torch.utils._pytree._register_pytree_node is deprecated. Please use torch.utils._pytree.register_pytree_node instead.\n",
      "  _torch_pytree._register_pytree_node(\n",
      "/opt/anaconda3/envs/ml/lib/python3.8/site-packages/transformers/utils/generic.py:309: UserWarning: torch.utils._pytree._register_pytree_node is deprecated. Please use torch.utils._pytree.register_pytree_node instead.\n",
      "  _torch_pytree._register_pytree_node(\n",
      "/opt/anaconda3/envs/ml/lib/python3.8/site-packages/transformers/utils/generic.py:309: UserWarning: torch.utils._pytree._register_pytree_node is deprecated. Please use torch.utils._pytree.register_pytree_node instead.\n",
      "  _torch_pytree._register_pytree_node(\n"
     ]
    },
    {
     "name": "stdout",
     "output_type": "stream",
     "text": [
      "2024-03-07 15:25:28,803 https://nlp.informatik.hu-berlin.de/resources/models/sentiment-curated-distilbert/sentiment-en-mix-distillbert_4.pt not found in cache, downloading to /var/folders/45/z55wgtcd3rd02cq1nmmhjlvh0000gn/T/tmpbh4qfsqp\n"
     ]
    },
    {
     "name": "stderr",
     "output_type": "stream",
     "text": [
      "100%|██████████| 253M/253M [00:16<00:00, 15.9MB/s] "
     ]
    },
    {
     "name": "stdout",
     "output_type": "stream",
     "text": [
      "2024-03-07 15:25:45,855 copying /var/folders/45/z55wgtcd3rd02cq1nmmhjlvh0000gn/T/tmpbh4qfsqp to cache at /Users/matiasmendez/.flair/models/sentiment-en-mix-distillbert_4.pt\n"
     ]
    },
    {
     "name": "stderr",
     "output_type": "stream",
     "text": [
      "\n"
     ]
    },
    {
     "name": "stdout",
     "output_type": "stream",
     "text": [
      "2024-03-07 15:25:46,000 removing temp file /var/folders/45/z55wgtcd3rd02cq1nmmhjlvh0000gn/T/tmpbh4qfsqp\n"
     ]
    },
    {
     "data": {
      "application/vnd.jupyter.widget-view+json": {
       "model_id": "17c2e2efa50b40b68f272e1bba6a0cd8",
       "version_major": 2,
       "version_minor": 0
      },
      "text/plain": [
       "tokenizer_config.json:   0%|          | 0.00/28.0 [00:00<?, ?B/s]"
      ]
     },
     "metadata": {},
     "output_type": "display_data"
    },
    {
     "data": {
      "application/vnd.jupyter.widget-view+json": {
       "model_id": "4581181fd164468cb7baf63197fbefbe",
       "version_major": 2,
       "version_minor": 0
      },
      "text/plain": [
       "config.json:   0%|          | 0.00/483 [00:00<?, ?B/s]"
      ]
     },
     "metadata": {},
     "output_type": "display_data"
    },
    {
     "data": {
      "application/vnd.jupyter.widget-view+json": {
       "model_id": "619d64b5ed0447e3b818f8429d7fbf8f",
       "version_major": 2,
       "version_minor": 0
      },
      "text/plain": [
       "vocab.txt:   0%|          | 0.00/232k [00:00<?, ?B/s]"
      ]
     },
     "metadata": {},
     "output_type": "display_data"
    },
    {
     "data": {
      "application/vnd.jupyter.widget-view+json": {
       "model_id": "a0a9d786595a48df96699e40fd3f040a",
       "version_major": 2,
       "version_minor": 0
      },
      "text/plain": [
       "tokenizer.json:   0%|          | 0.00/466k [00:00<?, ?B/s]"
      ]
     },
     "metadata": {},
     "output_type": "display_data"
    }
   ],
   "source": [
    "import flair\n",
    "#english language model for sentiment analysis\n",
    "model = flair.models.TextClassifier.load('en-sentiment')"
   ]
  },
  {
   "cell_type": "markdown",
   "metadata": {},
   "source": [
    "Our next step is to tokenize input text. For this we use the Flair Sentence object, which we initialize by passing our text into it:"
   ]
  },
  {
   "cell_type": "code",
   "execution_count": 3,
   "metadata": {},
   "outputs": [
    {
     "data": {
      "text/plain": [
       "Sentence[7]: \"I like you. I love you\""
      ]
     },
     "execution_count": 3,
     "metadata": {},
     "output_type": "execute_result"
    }
   ],
   "source": [
    "text = \"I like you. I love you\"  # we are expecting a confidently positive sentiment here\n",
    "\n",
    "sentence = flair.data.Sentence(text)\n",
    "\n",
    "sentence"
   ]
  },
  {
   "cell_type": "code",
   "execution_count": 4,
   "metadata": {},
   "outputs": [
    {
     "data": {
      "text/plain": [
       "Sentence[7]: \"I like you. I love you\" → POSITIVE (0.9933)"
      ]
     },
     "execution_count": 4,
     "metadata": {},
     "output_type": "execute_result"
    }
   ],
   "source": [
    "model.predict(sentence)\n",
    "# The predict method doesn't output our prediction, instead the predictions are added to our sentence:\n",
    "\n",
    "sentence"
   ]
  },
  {
   "cell_type": "code",
   "execution_count": 5,
   "metadata": {},
   "outputs": [
    {
     "data": {
      "text/plain": [
       "['Sentence[7]: \"I like you. I love you\"'/'POSITIVE' (0.9933)]"
      ]
     },
     "execution_count": 5,
     "metadata": {},
     "output_type": "execute_result"
    }
   ],
   "source": [
    "sentence.get_labels()"
   ]
  },
  {
   "cell_type": "code",
   "execution_count": 6,
   "metadata": {},
   "outputs": [
    {
     "data": {
      "text/plain": [
       "'POSITIVE'"
      ]
     },
     "execution_count": 6,
     "metadata": {},
     "output_type": "execute_result"
    }
   ],
   "source": [
    "sentence.get_labels()[0].value"
   ]
  },
  {
   "cell_type": "markdown",
   "metadata": {},
   "source": [
    "Now let's try with an Arianee post extracted from the crawler\n"
   ]
  }
 ],
 "metadata": {
  "kernelspec": {
   "display_name": "ml",
   "language": "python",
   "name": "python3"
  },
  "language_info": {
   "codemirror_mode": {
    "name": "ipython",
    "version": 3
   },
   "file_extension": ".py",
   "mimetype": "text/x-python",
   "name": "python",
   "nbconvert_exporter": "python",
   "pygments_lexer": "ipython3",
   "version": "3.8.5"
  }
 },
 "nbformat": 4,
 "nbformat_minor": 2
}
